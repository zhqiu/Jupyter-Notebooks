{
 "cells": [
  {
   "cell_type": "markdown",
   "metadata": {},
   "source": [
    "来源：https://wiseodd.github.io/techblog/2016/12/10/variational-autoencoder/"
   ]
  },
  {
   "cell_type": "markdown",
   "metadata": {},
   "source": [
    "### 前言"
   ]
  },
  {
   "cell_type": "markdown",
   "metadata": {},
   "source": [
    "现在两种流行的生成式模型：Generative Adversarial Nets (GAN)和Variational Autoencoder (VAE)。这两种模型有着本质上的不同，GAN基于博弈论，其目标是找到discriminator和generator间的纳什均衡；而VAE是基于贝叶斯推断，可以对数据的潜在分布建立概率分布模型，并从该分布中采集新样本。"
   ]
  },
  {
   "cell_type": "markdown",
   "metadata": {},
   "source": [
    "### VAE的公式与直观含义"
   ]
  },
  {
   "cell_type": "markdown",
   "metadata": {},
   "source": [
    "假设我们想生成某种数据，可以假设该种数据由某种隐变量（latent variable）生成。在生成式模型中首先确定隐变量是很有用的，没有隐变量，那么数据只能盲目地生成。这是GAN和VAE的一大区别。VAE使用了隐变量，所以模型有时会花费较大的代价。"
   ]
  },
  {
   "cell_type": "markdown",
   "metadata": {},
   "source": [
    "可以定义如下记号："
   ]
  },
  {
   "cell_type": "markdown",
   "metadata": {},
   "source": [
    "$X$：我们想要生成的数据"
   ]
  },
  {
   "cell_type": "markdown",
   "metadata": {},
   "source": [
    "$z$：隐变量"
   ]
  },
  {
   "cell_type": "markdown",
   "metadata": {},
   "source": [
    "$P(X)$：数据$X$的分布"
   ]
  },
  {
   "cell_type": "markdown",
   "metadata": {},
   "source": [
    "$P(z)$：隐变量$z$的分布"
   ]
  },
  {
   "cell_type": "markdown",
   "metadata": {},
   "source": [
    "$P(X|z)$：在给定隐变量$z$时，$X$的分布"
   ]
  },
  {
   "cell_type": "markdown",
   "metadata": {},
   "source": [
    "我们希望对数据建模，因此希望直到$P(X)$，其可以表示成如下形式："
   ]
  },
  {
   "cell_type": "markdown",
   "metadata": {},
   "source": [
    "$P(x)=\\int P(X|z)P(z)dz$"
   ]
  },
  {
   "cell_type": "markdown",
   "metadata": {},
   "source": [
    "在VAE中，可以利用$P(z|X)$来估计$P(z)$。这有着直观的含义：我们希望让隐变量与真实数据相关，即用那些最可能生成真实数据的隐变量的分布$P(z|X)$来估计$P(z)$。"
   ]
  },
  {
   "cell_type": "markdown",
   "metadata": {},
   "source": [
    "如何估计$P(z|X)$？对分布的估计可以使用MCMC或者变分推断（Variational Inference，VI）。VI的核心思想利用一个简单分布（如高斯分布），不断逼近真实分布，即最小化两个分布间的KL散度。假设此处利用$Q(z|X)$来逼近$P(z|X)$，两者的KL散度表示如下："
   ]
  },
  {
   "cell_type": "markdown",
   "metadata": {},
   "source": [
    "$D_{KL}[Q(z|X)\\parallel P(z|X)]=\\sum_{z}Q(z|X)\\log \\frac{Q(z|X)}{P(z|x)} = E_{z\\sim Q(z|X)}[\\frac{Q(z|X)}{P(z|X)}] = E_{z\\sim Q(z|X)}[\\log Q(z|X) -\\log P(z|X)]$"
   ]
  },
  {
   "cell_type": "markdown",
   "metadata": {},
   "source": [
    "再由贝叶斯公式，上式可变成："
   ]
  },
  {
   "cell_type": "markdown",
   "metadata": {},
   "source": [
    "$E_{z\\sim Q(z|X)}[\\log Q(z|X) -\\log P(z|X)] = E_{z\\sim Q(z|X)}[\\log Q(z|X) -\\log \\frac{P(X|z)P(z)}{P(X)}] = E_{z\\sim Q(z|X)}[\\log Q(z|X) -\\log P(X|z)-\\log P(z)+\\log P(X)]$"
   ]
  },
  {
   "cell_type": "markdown",
   "metadata": {},
   "source": [
    "由于$P(X)$与$z$无关，所以可以将其移到等式左边，于是有："
   ]
  },
  {
   "cell_type": "markdown",
   "metadata": {},
   "source": [
    "$D_{KL}[Q(z|X)\\parallel P(z|X)]-\\log P(X) = E_{z\\sim Q(z|X)}[\\log Q(z|X) -\\log P(X|z)-\\log P(z)]$"
   ]
  },
  {
   "cell_type": "markdown",
   "metadata": {},
   "source": [
    "左右同时乘-1，有：$\\log P(X) - D_{KL}[Q(z|X)\\parallel P(z|X)] = E_{z\\sim Q(z|X)}[\\log P(X|z) - (\\log Q(z|X)-\\log P(z))] = E_{z\\sim Q(z|X)}[\\log P(X|z) - D_{KL}[Q(z|X)\\parallel P(z)]]$"
   ]
  },
  {
   "cell_type": "markdown",
   "metadata": {},
   "source": [
    "于是："
   ]
  },
  {
   "cell_type": "markdown",
   "metadata": {},
   "source": [
    "$\\log P(X) - D_{KL}[Q(z|X)\\parallel P(z|X)]= E_{z\\sim Q(z|X)}[\\log P(X|z) - D_{KL}[Q(z|X)\\parallel P(z)]]$"
   ]
  },
  {
   "cell_type": "markdown",
   "metadata": {},
   "source": [
    "上面的就是VAE的目标函数。$P(X)$可以看成一个定值，因此我们希望等式左右两边的值越大越好。左边的$P(X|z)$是给定隐变量时真实数据的分布，可以看作解码器（decoder）；$Q(z|X)$是编码器（encoder），$z$是隐变量。"
   ]
  },
  {
   "cell_type": "markdown",
   "metadata": {},
   "source": [
    "### VAE的目标函数"
   ]
  },
  {
   "cell_type": "markdown",
   "metadata": {},
   "source": [
    "想要最大化$E_{z\\sim Q(z|X)}[\\log P(X|z) - D_{KL}[Q(z|X)\\parallel P(z)]]$，就要最大化$E_{z\\sim Q(z|X)}[P(X|z)]$，最小化$E_{z\\sim Q(z|X)}[D_{KL}[Q(z|X)\\parallel P(z)]]$。"
   ]
  },
  {
   "cell_type": "markdown",
   "metadata": {},
   "source": [
    "前个目标可以通过极大似然估计解决，将$z$看成输入，$X$看成输出，那么$P(X|z)$就是似然概率。通过极大似然估计就能得到该分布的参数的较好的估计。"
   ]
  },
  {
   "cell_type": "markdown",
   "metadata": {},
   "source": [
    "#####  关于$D_{KL}[Q(z|X)\\parallel P(z)]$，这里$P(z)$是隐变量的分布，我们在生成样本时要对$z$进行采样，所以这里可以将$z$设为服从较易采样的高斯分布$N(0,1)$。于是现在的目标就变成了让$Q(z|X)$尽可能接近$N(0,1)$。"
   ]
  },
  {
   "cell_type": "markdown",
   "metadata": {},
   "source": [
    "##### 假设我们希望$Q(z|X)$服从$N(\\mu(X),\\Sigma(X))$，此时KL散度有闭式解："
   ]
  },
  {
   "cell_type": "markdown",
   "metadata": {},
   "source": [
    "$D_{KL}[N(\\mu(X),\\Sigma(X))\\parallel N(0,1)]=\\frac{1}{2}(tr(\\Sigma(X))+\\mu(X)^T \\mu(X)-k-\\log det(\\Sigma(X)))$"
   ]
  },
  {
   "cell_type": "markdown",
   "metadata": {},
   "source": [
    "可以将$\\Sigma(X)$实现为一个向量，于是上式可以化简为："
   ]
  },
  {
   "cell_type": "markdown",
   "metadata": {},
   "source": [
    "$D_{KL}[N(\\mu(X),\\Sigma(X))\\parallel N(0,1)]=\\frac{1}{2}\\sum_{k}(\\Sigma(X)+\\mu(X)^2 -1-\\log \\Sigma(X))$"
   ]
  },
  {
   "cell_type": "markdown",
   "metadata": {},
   "source": [
    "在实践中，可将$\\log\\Sigma(X)$建模为$\\Sigma(X)$。因为计算指数比计算对数更数值稳定，于是有："
   ]
  },
  {
   "cell_type": "markdown",
   "metadata": {},
   "source": [
    "$D_{KL}[N(\\mu(X),\\Sigma(X))\\parallel N(0,1)]=\\frac{1}{2}\\sum_{k}(\\exp(\\Sigma(X))+\\mu(X)^2 -1-\\Sigma(X))$"
   ]
  },
  {
   "cell_type": "markdown",
   "metadata": {},
   "source": [
    "### VAE的实现"
   ]
  },
  {
   "cell_type": "code",
   "execution_count": 1,
   "metadata": {},
   "outputs": [],
   "source": [
    "# 导入必要的库\n",
    "\n",
    "import torch\n",
    "import torch.nn as nn\n",
    "import torch.nn.functional as F\n",
    "import torch.optim as optim\n",
    "import torchvision\n",
    "\n",
    "import numpy as np\n",
    "\n",
    "import matplotlib.pyplot as plt"
   ]
  },
  {
   "cell_type": "code",
   "execution_count": 2,
   "metadata": {},
   "outputs": [],
   "source": [
    "# 加载mnist数据集\n",
    "\n",
    "# rgb通道：[0,255] => [0,1]\n",
    "mnist_trans = torchvision.transforms.Compose([torchvision.transforms.ToTensor()])\n",
    "mnist_set = torchvision.datasets.MNIST('mnist', train=True, download=True, transform=mnist_trans)\n",
    "\n",
    "train_loader = torch.utils.data.DataLoader(mnist_set, batch_size=128, shuffle=True)"
   ]
  },
  {
   "cell_type": "code",
   "execution_count": 3,
   "metadata": {},
   "outputs": [
    {
     "name": "stdout",
     "output_type": "stream",
     "text": [
      "torch.Size([128, 1, 28, 28])\n"
     ]
    },
    {
     "data": {
      "image/png": "[encoded data removed]",
      "text/plain": [
       "<Figure size 432x288 with 1 Axes>"
      ]
     },
     "metadata": {
      "needs_background": "light"
     },
     "output_type": "display_data"
    },
    {
     "name": "stdout",
     "output_type": "stream",
     "text": [
      "tensor([7, 0, 2, 4, 1, 0, 4, 1, 2, 7, 7, 8, 8, 1, 5, 3, 5, 3, 5, 0, 1, 2, 0, 6,\n",
      "        9, 4, 7, 5, 3, 0, 6, 2, 4, 2, 6, 4, 2, 0, 7, 2, 0, 4, 9, 3, 7, 8, 7, 4,\n",
      "        4, 5, 4, 6, 7, 2, 1, 9, 6, 5, 9, 0, 4, 3, 2, 9, 1, 2, 9, 1, 6, 0, 7, 3,\n",
      "        7, 4, 9, 1, 1, 5, 6, 2, 4, 3, 4, 7, 0, 5, 3, 0, 8, 0, 2, 3, 5, 3, 3, 8,\n",
      "        0, 4, 4, 2, 0, 7, 4, 5, 9, 0, 8, 7, 5, 3, 4, 9, 0, 3, 3, 0, 3, 7, 9, 4,\n",
      "        3, 2, 7, 1, 5, 2, 5, 9])\n"
     ]
    }
   ],
   "source": [
    "# 展示一张图片\n",
    "\n",
    "for data, label in train_loader:\n",
    "    fig = plt.figure()    \n",
    "    \n",
    "    print(data.shape)\n",
    "    plt.imshow(data[0][0], cmap='gray')\n",
    "    plt.show()\n",
    "\n",
    "    print(label)\n",
    "    \n",
    "    break"
   ]
  },
  {
   "cell_type": "markdown",
   "metadata": {},
   "source": [
    "下面开始构造VAE"
   ]
  },
  {
   "cell_type": "code",
   "execution_count": 4,
   "metadata": {},
   "outputs": [],
   "source": [
    "\"\"\"\n",
    "    encoder net Q(z|X)\n",
    "    其输入为真实数据X，输出为mu(X)和Sigma(X)。\n",
    "    \n",
    "    【先验】 我们令z服从高维高斯分布，其均值为0，协方差矩阵为I。即z~N(0,1)\n",
    "    【假设】 这里我们假设 z|X ~ N(mu(X), Sigma(X))，所以最后优化的一个目标就是\n",
    "             让这个分布与N(0,1)尽可能靠近（KL散度尽可能小）\n",
    "             \n",
    "    Q先从X中产生mu(X)和Sigma(X)，然后z再从中采样（采样在encoder net外）\n",
    "    \n",
    "  * Q相当于从数据X中“提取”出一个正态分布，将其视为z所服从的分布。在不断的优化中\n",
    "    使该分布逐步趋近标准正态分布\n",
    "    \n",
    "    \n",
    "    decoder net P(X|z)\n",
    "    输入隐变量，输出生成的数据X\n",
    "\"\"\"\n",
    "\n",
    "class VAE(nn.Module):\n",
    "    def __init__(self):\n",
    "        super(VAE, self).__init__()\n",
    "        \n",
    "        self.z_dim = 100\n",
    "        \"\"\"\n",
    "            in encoder\n",
    "        \"\"\"\n",
    "        self.fc1 = nn.Linear(784, 128)   # 784=28*28, size of input image\n",
    "        self.fc_z_mu = nn.Linear(128, self.z_dim)\n",
    "    \n",
    "        # 假设z的各维度相互独立，故Sigma(z)为对角矩阵，故可用向量表示\n",
    "        self.fc_z_sigma = nn.Linear(128, self.z_dim)\n",
    "        \n",
    "        \"\"\"\n",
    "            in decoder\n",
    "        \"\"\"\n",
    "        self.fc2 = nn.Linear(self.z_dim, 128)\n",
    "        self.fc3 = nn.Linear(128, 784)\n",
    "        \n",
    "        \n",
    "    def encoder(self, X):\n",
    "        h1 = F.relu(self.fc1(X))\n",
    "        return self.fc_z_mu(h1), self.fc_z_sigma(h1)# 实践中，生成的实际上是log Sigma\n",
    "    \n",
    "    \n",
    "    # 由z|X ~ N(mu(X), Sigma(X))，对z进行采样\n",
    "    def sample_z(self, mu, logvar):\n",
    "        std = torch.exp(0.5 * logvar) # e^{(log var)/2} = var^{0.5}\n",
    "        eps = torch.randn_like(std)\n",
    "        return eps.mul(std).add_(mu)\n",
    "    \n",
    "    \n",
    "    def decoder(self, z):\n",
    "        h1 = F.relu(self.fc2(z))\n",
    "        return torch.sigmoid(self.fc3(h1))\n",
    "    \n",
    "    \n",
    "    def forward(self, X):\n",
    "        mu, logvar = self.encoder(X.view(-1, 784))\n",
    "        z = self.sample_z(mu, logvar)\n",
    "        return self.decoder(z), mu, logvar   # 返回所有求loss时需要用到的变量"
   ]
  },
  {
   "cell_type": "markdown",
   "metadata": {},
   "source": [
    "下面是训练过程"
   ]
  },
  {
   "cell_type": "code",
   "execution_count": 5,
   "metadata": {},
   "outputs": [],
   "source": [
    "device = torch.device(\"cuda\" if torch.cuda.is_available() else \"cpu\")\n",
    "\n",
    "model = VAE().to(device)\n",
    "optimizer = optim.Adam(model.parameters(), lr=5e-3)\n",
    "\n",
    "\n",
    "\"\"\"\n",
    "    下面是损失函数，分成两部分\n",
    "    1. BCE loss -> 使重建的数据和真实数据差别小(相当于前述的极大似然估计过程)\n",
    "    2. KLD loss -> 使隐变量的分布尽可能接近标准正态分布\n",
    "\"\"\"\n",
    "def loss_function(recon_x, x, mu, logvar):\n",
    "    # recon_x是原本的x结果encoder net和decoder net后重建的结果\n",
    "    BCE_loss = F.binary_cross_entropy(recon_x, x.view(-1, 784), reduction='sum')\n",
    "    \n",
    "    KLD_loss = -0.5 * torch.sum(1 + logvar - mu.pow(2) - logvar.exp())\n",
    "    \n",
    "    return BCE_loss + KLD_loss"
   ]
  },
  {
   "cell_type": "code",
   "execution_count": 6,
   "metadata": {},
   "outputs": [],
   "source": [
    "def train(epoch):\n",
    "    model.train()\n",
    "    train_loss = 0\n",
    "    \n",
    "    for batch_idx, (data, _) in enumerate(train_loader):\n",
    "        data = data.to(device)\n",
    "        optimizer.zero_grad()\n",
    "        recon_batch, mu, logvar = model(data)\n",
    "        \n",
    "        loss = loss_function(recon_batch, data, mu, logvar)\n",
    "        loss.backward()\n",
    "        \n",
    "        train_loss += loss.item()\n",
    "        optimizer.step()\n",
    "\n",
    "    print('====> Epoch: {} Average loss: {:.4f}'.format(\n",
    "          epoch, train_loss / len(train_loader.dataset)))"
   ]
  },
  {
   "cell_type": "code",
   "execution_count": 7,
   "metadata": {},
   "outputs": [
    {
     "name": "stdout",
     "output_type": "stream",
     "text": [
      "====> Epoch: 0 Average loss: 167.1508\n",
      "====> Epoch: 1 Average loss: 125.6100\n",
      "====> Epoch: 2 Average loss: 119.0786\n",
      "====> Epoch: 3 Average loss: 116.4446\n",
      "====> Epoch: 4 Average loss: 115.0512\n",
      "====> Epoch: 5 Average loss: 114.1624\n",
      "====> Epoch: 6 Average loss: 113.6753\n",
      "====> Epoch: 7 Average loss: 113.3248\n",
      "====> Epoch: 8 Average loss: 112.9817\n",
      "====> Epoch: 9 Average loss: 112.8498\n",
      "====> Epoch: 10 Average loss: 112.6293\n",
      "====> Epoch: 11 Average loss: 112.5093\n",
      "====> Epoch: 12 Average loss: 112.2959\n",
      "====> Epoch: 13 Average loss: 112.2171\n",
      "====> Epoch: 14 Average loss: 112.0854\n",
      "====> Epoch: 15 Average loss: 111.9911\n",
      "====> Epoch: 16 Average loss: 111.8361\n",
      "====> Epoch: 17 Average loss: 111.8010\n",
      "====> Epoch: 18 Average loss: 111.8427\n",
      "====> Epoch: 19 Average loss: 111.5658\n",
      "====> Epoch: 20 Average loss: 111.5766\n",
      "====> Epoch: 21 Average loss: 111.4930\n",
      "====> Epoch: 22 Average loss: 111.5032\n",
      "====> Epoch: 23 Average loss: 111.4384\n",
      "====> Epoch: 24 Average loss: 111.5431\n",
      "====> Epoch: 25 Average loss: 111.3111\n",
      "====> Epoch: 26 Average loss: 111.2997\n",
      "====> Epoch: 27 Average loss: 111.2878\n",
      "====> Epoch: 28 Average loss: 111.1998\n",
      "====> Epoch: 29 Average loss: 111.1756\n",
      "====> Epoch: 30 Average loss: 111.2128\n",
      "====> Epoch: 31 Average loss: 111.2031\n",
      "====> Epoch: 32 Average loss: 111.1681\n",
      "====> Epoch: 33 Average loss: 111.0286\n",
      "====> Epoch: 34 Average loss: 111.0263\n",
      "====> Epoch: 35 Average loss: 110.9926\n",
      "====> Epoch: 36 Average loss: 110.9868\n",
      "====> Epoch: 37 Average loss: 110.9388\n",
      "====> Epoch: 38 Average loss: 110.8196\n",
      "====> Epoch: 39 Average loss: 110.9674\n",
      "====> Epoch: 40 Average loss: 110.9134\n",
      "====> Epoch: 41 Average loss: 110.9372\n",
      "====> Epoch: 42 Average loss: 110.8010\n",
      "====> Epoch: 43 Average loss: 110.8528\n",
      "====> Epoch: 44 Average loss: 110.7310\n",
      "====> Epoch: 45 Average loss: 110.8016\n",
      "====> Epoch: 46 Average loss: 110.7981\n",
      "====> Epoch: 47 Average loss: 110.7104\n",
      "====> Epoch: 48 Average loss: 110.7309\n",
      "====> Epoch: 49 Average loss: 110.6778\n",
      "====> Epoch: 50 Average loss: 110.6810\n",
      "====> Epoch: 51 Average loss: 110.6697\n",
      "====> Epoch: 52 Average loss: 110.5741\n",
      "====> Epoch: 53 Average loss: 110.6510\n",
      "====> Epoch: 54 Average loss: 110.6090\n",
      "====> Epoch: 55 Average loss: 110.4859\n",
      "====> Epoch: 56 Average loss: 110.4662\n",
      "====> Epoch: 57 Average loss: 110.5539\n",
      "====> Epoch: 58 Average loss: 110.4780\n",
      "====> Epoch: 59 Average loss: 110.4413\n",
      "====> Epoch: 60 Average loss: 110.4153\n",
      "====> Epoch: 61 Average loss: 110.3778\n",
      "====> Epoch: 62 Average loss: 110.4059\n",
      "====> Epoch: 63 Average loss: 110.3825\n",
      "====> Epoch: 64 Average loss: 110.4894\n",
      "====> Epoch: 65 Average loss: 110.4144\n",
      "====> Epoch: 66 Average loss: 110.3799\n",
      "====> Epoch: 67 Average loss: 110.3676\n",
      "====> Epoch: 68 Average loss: 110.3776\n",
      "====> Epoch: 69 Average loss: 110.3744\n",
      "====> Epoch: 70 Average loss: 110.3802\n",
      "====> Epoch: 71 Average loss: 110.3924\n",
      "====> Epoch: 72 Average loss: 110.3508\n",
      "====> Epoch: 73 Average loss: 110.3443\n",
      "====> Epoch: 74 Average loss: 110.2713\n",
      "====> Epoch: 75 Average loss: 110.3571\n",
      "====> Epoch: 76 Average loss: 110.3601\n",
      "====> Epoch: 77 Average loss: 110.2674\n",
      "====> Epoch: 78 Average loss: 110.3103\n",
      "====> Epoch: 79 Average loss: 110.3266\n",
      "====> Epoch: 80 Average loss: 110.2636\n",
      "====> Epoch: 81 Average loss: 110.3103\n",
      "====> Epoch: 82 Average loss: 110.2252\n",
      "====> Epoch: 83 Average loss: 110.3212\n",
      "====> Epoch: 84 Average loss: 110.1896\n",
      "====> Epoch: 85 Average loss: 110.3226\n",
      "====> Epoch: 86 Average loss: 110.3513\n",
      "====> Epoch: 87 Average loss: 110.2914\n",
      "====> Epoch: 88 Average loss: 110.1868\n",
      "====> Epoch: 89 Average loss: 110.3233\n",
      "====> Epoch: 90 Average loss: 110.1892\n",
      "====> Epoch: 91 Average loss: 110.2303\n",
      "====> Epoch: 92 Average loss: 110.2993\n",
      "====> Epoch: 93 Average loss: 110.2905\n",
      "====> Epoch: 94 Average loss: 110.1901\n",
      "====> Epoch: 95 Average loss: 110.1801\n",
      "====> Epoch: 96 Average loss: 110.1952\n",
      "====> Epoch: 97 Average loss: 110.2650\n",
      "====> Epoch: 98 Average loss: 110.2010\n",
      "====> Epoch: 99 Average loss: 110.2195\n",
      "====> Epoch: 100 Average loss: 110.1735\n",
      "====> Epoch: 101 Average loss: 110.2557\n",
      "====> Epoch: 102 Average loss: 110.1182\n",
      "====> Epoch: 103 Average loss: 110.1361\n",
      "====> Epoch: 104 Average loss: 110.2527\n",
      "====> Epoch: 105 Average loss: 110.1675\n",
      "====> Epoch: 106 Average loss: 110.1717\n",
      "====> Epoch: 107 Average loss: 110.1729\n",
      "====> Epoch: 108 Average loss: 110.0780\n",
      "====> Epoch: 109 Average loss: 110.2009\n",
      "====> Epoch: 110 Average loss: 110.1970\n",
      "====> Epoch: 111 Average loss: 110.1059\n",
      "====> Epoch: 112 Average loss: 110.1726\n",
      "====> Epoch: 113 Average loss: 110.2387\n",
      "====> Epoch: 114 Average loss: 110.1617\n",
      "====> Epoch: 115 Average loss: 110.1270\n",
      "====> Epoch: 116 Average loss: 110.1178\n",
      "====> Epoch: 117 Average loss: 110.1940\n",
      "====> Epoch: 118 Average loss: 110.1763\n",
      "====> Epoch: 119 Average loss: 110.0987\n",
      "====> Epoch: 120 Average loss: 110.1545\n",
      "====> Epoch: 121 Average loss: 110.1652\n",
      "====> Epoch: 122 Average loss: 110.1289\n",
      "====> Epoch: 123 Average loss: 110.1255\n",
      "====> Epoch: 124 Average loss: 110.1265\n",
      "====> Epoch: 125 Average loss: 110.1819\n",
      "====> Epoch: 126 Average loss: 110.0564\n",
      "====> Epoch: 127 Average loss: 110.1015\n",
      "====> Epoch: 128 Average loss: 110.1043\n",
      "====> Epoch: 129 Average loss: 110.1161\n",
      "====> Epoch: 130 Average loss: 110.1497\n",
      "====> Epoch: 131 Average loss: 110.0770\n",
      "====> Epoch: 132 Average loss: 110.0640\n",
      "====> Epoch: 133 Average loss: 110.1324\n",
      "====> Epoch: 134 Average loss: 110.1629\n",
      "====> Epoch: 135 Average loss: 110.1291\n",
      "====> Epoch: 136 Average loss: 110.1175\n",
      "====> Epoch: 137 Average loss: 110.0637\n",
      "====> Epoch: 138 Average loss: 110.0896\n",
      "====> Epoch: 139 Average loss: 110.0816\n",
      "====> Epoch: 140 Average loss: 110.1384\n",
      "====> Epoch: 141 Average loss: 110.0576\n",
      "====> Epoch: 142 Average loss: 110.1139\n",
      "====> Epoch: 143 Average loss: 110.1470\n",
      "====> Epoch: 144 Average loss: 110.1293\n",
      "====> Epoch: 145 Average loss: 110.0844\n",
      "====> Epoch: 146 Average loss: 110.1305\n",
      "====> Epoch: 147 Average loss: 110.1645\n",
      "====> Epoch: 148 Average loss: 110.2112\n",
      "====> Epoch: 149 Average loss: 110.0462\n",
      "====> Epoch: 150 Average loss: 110.1001\n",
      "====> Epoch: 151 Average loss: 110.1131\n",
      "====> Epoch: 152 Average loss: 110.0353\n",
      "====> Epoch: 153 Average loss: 110.0650\n",
      "====> Epoch: 154 Average loss: 110.0798\n",
      "====> Epoch: 155 Average loss: 110.0478\n",
      "====> Epoch: 156 Average loss: 110.0139\n",
      "====> Epoch: 157 Average loss: 110.1529\n",
      "====> Epoch: 158 Average loss: 110.0347\n",
      "====> Epoch: 159 Average loss: 110.1338\n",
      "====> Epoch: 160 Average loss: 110.0467\n",
      "====> Epoch: 161 Average loss: 110.1090\n",
      "====> Epoch: 162 Average loss: 110.0373\n",
      "====> Epoch: 163 Average loss: 110.0989\n",
      "====> Epoch: 164 Average loss: 110.1402\n",
      "====> Epoch: 165 Average loss: 110.1713\n",
      "====> Epoch: 166 Average loss: 110.0528\n",
      "====> Epoch: 167 Average loss: 110.0385\n",
      "====> Epoch: 168 Average loss: 110.0822\n",
      "====> Epoch: 169 Average loss: 110.0928\n",
      "====> Epoch: 170 Average loss: 110.0346\n",
      "====> Epoch: 171 Average loss: 110.1045\n",
      "====> Epoch: 172 Average loss: 110.1174\n",
      "====> Epoch: 173 Average loss: 110.0881\n",
      "====> Epoch: 174 Average loss: 110.0566\n",
      "====> Epoch: 175 Average loss: 110.1062\n",
      "====> Epoch: 176 Average loss: 110.0212\n",
      "====> Epoch: 177 Average loss: 110.1121\n",
      "====> Epoch: 178 Average loss: 109.9762\n",
      "====> Epoch: 179 Average loss: 110.0912\n",
      "====> Epoch: 180 Average loss: 110.0827\n",
      "====> Epoch: 181 Average loss: 110.0662\n",
      "====> Epoch: 182 Average loss: 110.1318\n",
      "====> Epoch: 183 Average loss: 110.0237\n",
      "====> Epoch: 184 Average loss: 110.0202\n",
      "====> Epoch: 185 Average loss: 110.0253\n",
      "====> Epoch: 186 Average loss: 110.1566\n",
      "====> Epoch: 187 Average loss: 110.0333\n",
      "====> Epoch: 188 Average loss: 110.0283\n",
      "====> Epoch: 189 Average loss: 110.0247\n",
      "====> Epoch: 190 Average loss: 110.0643\n",
      "====> Epoch: 191 Average loss: 110.0485\n",
      "====> Epoch: 192 Average loss: 109.9800\n",
      "====> Epoch: 193 Average loss: 110.0156\n",
      "====> Epoch: 194 Average loss: 110.0206\n",
      "====> Epoch: 195 Average loss: 110.0976\n",
      "====> Epoch: 196 Average loss: 110.0205\n",
      "====> Epoch: 197 Average loss: 110.0258\n",
      "====> Epoch: 198 Average loss: 110.0409\n",
      "====> Epoch: 199 Average loss: 110.1017\n"
     ]
    }
   ],
   "source": [
    "for epoch in range(200):\n",
    "    train(epoch)"
   ]
  },
  {
   "cell_type": "markdown",
   "metadata": {},
   "source": [
    "下面利用训练好的decoder net生成若干图片："
   ]
  },
  {
   "cell_type": "code",
   "execution_count": 17,
   "metadata": {},
   "outputs": [
    {
     "data": {
      "image/png": "[encoded data removed]",
      "text/plain": [
       "<Figure size 432x288 with 1 Axes>"
      ]
     },
     "metadata": {
      "needs_background": "light"
     },
     "output_type": "display_data"
    }
   ],
   "source": [
    "z = torch.randn(100).to(device)\n",
    "\n",
    "output = model.decoder(z).view(28,28).detach()\n",
    "\n",
    "plt.imshow(output, cmap='gray')\n",
    "plt.show()"
   ]
  },
  {
   "cell_type": "markdown",
   "metadata": {},
   "source": [
    "保存模型："
   ]
  },
  {
   "cell_type": "code",
   "execution_count": 20,
   "metadata": {},
   "outputs": [],
   "source": [
    "torch.save(model.state_dict(), 'my_vae.pt')"
   ]
  }
 ],
 "metadata": {
  "kernelspec": {
   "display_name": "Python 3",
   "language": "python",
   "name": "python3"
  },
  "language_info": {
   "codemirror_mode": {
    "name": "ipython",
    "version": 3
   },
   "file_extension": ".py",
   "mimetype": "text/x-python",
   "name": "python",
   "nbconvert_exporter": "python",
   "pygments_lexer": "ipython3",
   "version": "3.7.1"
  }
 },
 "nbformat": 4,
 "nbformat_minor": 2
}
