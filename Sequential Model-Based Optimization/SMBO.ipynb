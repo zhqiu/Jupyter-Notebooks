{
 "cells": [
  {
   "cell_type": "markdown",
   "metadata": {},
   "source": [
    "来源：https://towardsdatascience.com/a-conceptual-explanation-of-bayesian-model-based-hyperparameter-optimization-for-machine-learning-b8172278050f"
   ]
  },
  {
   "cell_type": "markdown",
   "metadata": {},
   "source": [
    "## Sequential Model-Based Optimization（SMBO）"
   ]
  },
  {
   "cell_type": "markdown",
   "metadata": {},
   "source": [
    "SMBO是一个Bayesian optimization算法。‘Sequential’意味着一轮一轮地进行尝试，每轮利用当前模型给出的最优超参数，然后利用这个超参数带入函数后验证的结果来更新模型。"
   ]
  },
  {
   "cell_type": "markdown",
   "metadata": {},
   "source": [
    "这个算法包含5个组成成分：  \n",
    "> 1. 超参数的定义域  \n",
    "> 2. 目标函数，可以接受超参数输入，返回得分  \n",
    "> 3. 目标函数对应的模型（surrogate model）  \n",
    "> 4. 选择函数，用于从模型中选择最优超参数  \n",
    "> 5. 历史，（超参数，得分）对，用于更新surrogate model "
   ]
  },
  {
   "cell_type": "markdown",
   "metadata": {},
   "source": [
    "hyperopt库实现了TPE算法，一个简单的例子如下："
   ]
  },
  {
   "cell_type": "code",
   "execution_count": 2,
   "metadata": {},
   "outputs": [
    {
     "name": "stdout",
     "output_type": "stream",
     "text": [
      "{'x': 1.0066432353098484}\n"
     ]
    }
   ],
   "source": [
    "from hyperopt import fmin, tpe, hp\n",
    "best = fmin(\n",
    "    fn=lambda x: (x-1)**2,              # 要最小化的函数，可以是任何返回实值的函数\n",
    "    space=hp.uniform('x', -2, 2),       # 超参数搜索域\n",
    "    algo=tpe.suggest,                   # 使用TPE算法\n",
    "    max_evals=100)                      # 最大evaluation次数\n",
    "print(best)"
   ]
  },
  {
   "cell_type": "markdown",
   "metadata": {},
   "source": [
    "hyperopt提供了一些参数的先验分布，如choice，normal，uniform，lognormal等："
   ]
  },
  {
   "cell_type": "code",
   "execution_count": 4,
   "metadata": {},
   "outputs": [
    {
     "name": "stdout",
     "output_type": "stream",
     "text": [
      "{'name': 'bob', 'x': 0.9821704856681024, 'y': -0.43218336300612803}\n"
     ]
    }
   ],
   "source": [
    "import hyperopt.pyll.stochastic\n",
    "\n",
    "space = {\n",
    "    'x': hp.uniform('x', 0, 1),\n",
    "    'y': hp.normal('y', 0, 1),\n",
    "    'name': hp.choice('name', ['alice', 'bob']),\n",
    "}\n",
    "\n",
    "print(hyperopt.pyll.stochastic.sample(space))"
   ]
  },
  {
   "cell_type": "markdown",
   "metadata": {},
   "source": [
    "hyperopt的Trails对象记录了每次迭代的细节："
   ]
  },
  {
   "cell_type": "code",
   "execution_count": 6,
   "metadata": {},
   "outputs": [
    {
     "name": "stdout",
     "output_type": "stream",
     "text": [
      "best: {'x': -0.015546488490608468}\n",
      "trials:\n",
      "{'state': 2, 'tid': 0, 'spec': None, 'result': {'loss': 0.9492262172484285, 'status': 'ok'}, 'misc': {'tid': 0, 'cmd': ('domain_attachment', 'FMinIter_Domain'), 'workdir': None, 'idxs': {'x': [0]}, 'vals': {'x': [-0.974282411443637]}}, 'exp_key': None, 'owner': None, 'version': 0, 'book_time': datetime.datetime(2018, 11, 21, 9, 59, 50, 212000), 'refresh_time': datetime.datetime(2018, 11, 21, 9, 59, 50, 212000)}\n",
      "{'state': 2, 'tid': 1, 'spec': None, 'result': {'loss': 0.7038667988805063, 'status': 'ok'}, 'misc': {'tid': 1, 'cmd': ('domain_attachment', 'FMinIter_Domain'), 'workdir': None, 'idxs': {'x': [1]}, 'vals': {'x': [-0.8389676983534624]}}, 'exp_key': None, 'owner': None, 'version': 0, 'book_time': datetime.datetime(2018, 11, 21, 9, 59, 50, 213000), 'refresh_time': datetime.datetime(2018, 11, 21, 9, 59, 50, 213000)}\n"
     ]
    }
   ],
   "source": [
    "from hyperopt import fmin, tpe, hp, STATUS_OK, Trials\n",
    "\n",
    "fspace = {\n",
    "    'x': hp.uniform('x', -5, 5)\n",
    "}\n",
    "\n",
    "def f(params):\n",
    "    x = params['x']\n",
    "    val = x**2\n",
    "    return {'loss': val, 'status': STATUS_OK}\n",
    "\n",
    "trials = Trials()\n",
    "best = fmin(fn=f, space=fspace, algo=tpe.suggest, max_evals=50, trials=trials)\n",
    "\n",
    "print('best:', best)\n",
    "\n",
    "print('trials:')\n",
    "for trial in trials.trials[:2]:\n",
    "    print(trial)"
   ]
  },
  {
   "cell_type": "markdown",
   "metadata": {},
   "source": [
    "上面的‘tid’指time id，即time step。‘vals’中的‘x’就是本轮迭代的参数值，‘result’中的‘loss’就是本轮的目标函数值。"
   ]
  },
  {
   "cell_type": "markdown",
   "metadata": {},
   "source": [
    "可以利用这些信息画出x和loss随轮数的变化图。"
   ]
  },
  {
   "cell_type": "markdown",
   "metadata": {},
   "source": [
    "### 一个例子"
   ]
  },
  {
   "cell_type": "markdown",
   "metadata": {},
   "source": [
    "下面的例子使用random forest来对iris数据集进行分类，超参数的选择利用hyperopt。"
   ]
  },
  {
   "cell_type": "code",
   "execution_count": 12,
   "metadata": {},
   "outputs": [],
   "source": [
    "# 载入数据集\n",
    "\n",
    "from sklearn import datasets\n",
    "\n",
    "iris = datasets.load_iris()\n",
    "X = iris.data\n",
    "y = iris.target"
   ]
  },
  {
   "cell_type": "code",
   "execution_count": 24,
   "metadata": {},
   "outputs": [],
   "source": [
    "# random forest的超参数空间\n",
    "\n",
    "space4rf = {\n",
    "    'max_depth': hp.choice('max_depth', range(1,20)),\n",
    "    'max_features': hp.choice('max_features', range(1,5)),\n",
    "    'n_estimators': hp.choice('n_estimators', range(1,20)),\n",
    "    'criterion': hp.choice('criterion', [\"gini\", \"entropy\"]),\n",
    "    'scale': hp.choice('scale', [0, 1]),\n",
    "    'normalize': hp.choice('normalize', [0, 1])\n",
    "}"
   ]
  },
  {
   "cell_type": "code",
   "execution_count": 34,
   "metadata": {},
   "outputs": [],
   "source": [
    "# 目标函数，输入超参数返回得分\n",
    "\n",
    "from sklearn.ensemble import RandomForestClassifier\n",
    "from sklearn.model_selection import cross_val_score\n",
    "from sklearn.preprocessing import normalize,scale    \n",
    "\n",
    "def hyperopt_train_test(params):\n",
    "    X_ = X[:]\n",
    "    if 'normalize' in params:\n",
    "        if params['normalize'] == 1:\n",
    "            X_ = normalize(X_)        # 将输入向量调整到相同的（l2）范数\n",
    "        del params['normalize']\n",
    "\n",
    "    if 'scale' in params:\n",
    "        if params['scale'] == 1:\n",
    "            X_ = scale(X_)            # 将输入向量调整到均值为0，方差为1\n",
    "        del params['scale']\n",
    "            \n",
    "    clf = RandomForestClassifier(**params)\n",
    "    \n",
    "    return cross_val_score(clf, X, y, cv=5).mean()"
   ]
  },
  {
   "cell_type": "code",
   "execution_count": 35,
   "metadata": {},
   "outputs": [],
   "source": [
    "best = 0\n",
    "\n",
    "def f(params):\n",
    "    global best\n",
    "    acc = hyperopt_train_test(params)\n",
    "    if acc > best:\n",
    "        best = acc\n",
    "    print('new best:', best, params)\n",
    "    return {'loss': -acc, 'status': STATUS_OK}"
   ]
  },
  {
   "cell_type": "code",
   "execution_count": 36,
   "metadata": {},
   "outputs": [
    {
     "name": "stdout",
     "output_type": "stream",
     "text": [
      "new best: 0.9533333333333334 {'criterion': 'entropy', 'max_depth': 5, 'max_features': 2, 'n_estimators': 17}\n",
      "new best: 0.9533333333333334 {'criterion': 'gini', 'max_depth': 6, 'max_features': 1, 'n_estimators': 11}\n",
      "new best: 0.9533333333333334 {'criterion': 'gini', 'max_depth': 1, 'max_features': 4, 'n_estimators': 6}\n",
      "new best: 0.9533333333333334 {'criterion': 'entropy', 'max_depth': 11, 'max_features': 1, 'n_estimators': 6}\n",
      "new best: 0.9666666666666668 {'criterion': 'gini', 'max_depth': 4, 'max_features': 3, 'n_estimators': 13}\n",
      "new best: 0.9666666666666668 {'criterion': 'entropy', 'max_depth': 5, 'max_features': 1, 'n_estimators': 12}\n",
      "new best: 0.9666666666666668 {'criterion': 'gini', 'max_depth': 16, 'max_features': 4, 'n_estimators': 3}\n",
      "new best: 0.9666666666666668 {'criterion': 'entropy', 'max_depth': 17, 'max_features': 4, 'n_estimators': 15}\n",
      "new best: 0.9666666666666668 {'criterion': 'gini', 'max_depth': 14, 'max_features': 1, 'n_estimators': 19}\n",
      "new best: 0.9666666666666668 {'criterion': 'entropy', 'max_depth': 2, 'max_features': 3, 'n_estimators': 11}\n",
      "new best: 0.9666666666666668 {'criterion': 'entropy', 'max_depth': 18, 'max_features': 4, 'n_estimators': 7}\n",
      "new best: 0.9666666666666668 {'criterion': 'gini', 'max_depth': 11, 'max_features': 2, 'n_estimators': 2}\n",
      "new best: 0.9666666666666668 {'criterion': 'entropy', 'max_depth': 2, 'max_features': 3, 'n_estimators': 3}\n",
      "new best: 0.9666666666666668 {'criterion': 'entropy', 'max_depth': 14, 'max_features': 1, 'n_estimators': 13}\n",
      "new best: 0.9666666666666668 {'criterion': 'entropy', 'max_depth': 8, 'max_features': 4, 'n_estimators': 9}\n",
      "new best: 0.9666666666666668 {'criterion': 'gini', 'max_depth': 17, 'max_features': 2, 'n_estimators': 8}\n",
      "new best: 0.9666666666666668 {'criterion': 'entropy', 'max_depth': 13, 'max_features': 1, 'n_estimators': 12}\n",
      "new best: 0.9666666666666668 {'criterion': 'gini', 'max_depth': 11, 'max_features': 3, 'n_estimators': 19}\n",
      "new best: 0.9666666666666668 {'criterion': 'entropy', 'max_depth': 10, 'max_features': 1, 'n_estimators': 17}\n",
      "new best: 0.9666666666666668 {'criterion': 'entropy', 'max_depth': 5, 'max_features': 1, 'n_estimators': 17}\n",
      "new best: 0.9666666666666668 {'criterion': 'gini', 'max_depth': 12, 'max_features': 2, 'n_estimators': 8}\n",
      "new best: 0.9666666666666668 {'criterion': 'gini', 'max_depth': 8, 'max_features': 2, 'n_estimators': 9}\n",
      "new best: 0.9666666666666668 {'criterion': 'gini', 'max_depth': 17, 'max_features': 2, 'n_estimators': 9}\n",
      "new best: 0.9666666666666668 {'criterion': 'gini', 'max_depth': 4, 'max_features': 3, 'n_estimators': 5}\n",
      "new best: 0.9666666666666668 {'criterion': 'gini', 'max_depth': 19, 'max_features': 3, 'n_estimators': 8}\n",
      "new best: 0.9666666666666668 {'criterion': 'entropy', 'max_depth': 3, 'max_features': 4, 'n_estimators': 15}\n",
      "new best: 0.9666666666666668 {'criterion': 'entropy', 'max_depth': 3, 'max_features': 4, 'n_estimators': 13}\n",
      "new best: 0.9666666666666668 {'criterion': 'gini', 'max_depth': 4, 'max_features': 3, 'n_estimators': 1}\n",
      "new best: 0.9666666666666668 {'criterion': 'entropy', 'max_depth': 3, 'max_features': 4, 'n_estimators': 14}\n",
      "new best: 0.9666666666666668 {'criterion': 'entropy', 'max_depth': 8, 'max_features': 4, 'n_estimators': 15}\n",
      "new best: 0.9666666666666668 {'criterion': 'entropy', 'max_depth': 15, 'max_features': 4, 'n_estimators': 18}\n",
      "new best: 0.9666666666666668 {'criterion': 'gini', 'max_depth': 7, 'max_features': 2, 'n_estimators': 14}\n",
      "new best: 0.9666666666666668 {'criterion': 'gini', 'max_depth': 9, 'max_features': 2, 'n_estimators': 10}\n",
      "new best: 0.9666666666666668 {'criterion': 'entropy', 'max_depth': 15, 'max_features': 4, 'n_estimators': 18}\n",
      "new best: 0.9666666666666668 {'criterion': 'gini', 'max_depth': 15, 'max_features': 3, 'n_estimators': 18}\n",
      "new best: 0.9666666666666668 {'criterion': 'gini', 'max_depth': 1, 'max_features': 3, 'n_estimators': 4}\n",
      "new best: 0.9666666666666668 {'criterion': 'entropy', 'max_depth': 3, 'max_features': 3, 'n_estimators': 13}\n",
      "new best: 0.9666666666666668 {'criterion': 'gini', 'max_depth': 6, 'max_features': 2, 'n_estimators': 16}\n",
      "new best: 0.9666666666666668 {'criterion': 'gini', 'max_depth': 6, 'max_features': 2, 'n_estimators': 16}\n",
      "new best: 0.9666666666666668 {'criterion': 'entropy', 'max_depth': 4, 'max_features': 3, 'n_estimators': 13}\n",
      "new best: 0.9666666666666668 {'criterion': 'entropy', 'max_depth': 16, 'max_features': 4, 'n_estimators': 6}\n",
      "new best: 0.9666666666666668 {'criterion': 'gini', 'max_depth': 6, 'max_features': 2, 'n_estimators': 16}\n",
      "new best: 0.9666666666666668 {'criterion': 'entropy', 'max_depth': 4, 'max_features': 2, 'n_estimators': 16}\n",
      "new best: 0.9666666666666668 {'criterion': 'gini', 'max_depth': 6, 'max_features': 3, 'n_estimators': 7}\n",
      "new best: 0.9666666666666668 {'criterion': 'entropy', 'max_depth': 18, 'max_features': 3, 'n_estimators': 11}\n",
      "new best: 0.9666666666666668 {'criterion': 'gini', 'max_depth': 12, 'max_features': 4, 'n_estimators': 14}\n",
      "new best: 0.9666666666666668 {'criterion': 'gini', 'max_depth': 13, 'max_features': 4, 'n_estimators': 14}\n",
      "new best: 0.9666666666666668 {'criterion': 'gini', 'max_depth': 12, 'max_features': 1, 'n_estimators': 8}\n",
      "new best: 0.9666666666666668 {'criterion': 'entropy', 'max_depth': 3, 'max_features': 4, 'n_estimators': 2}\n",
      "new best: 0.9666666666666668 {'criterion': 'entropy', 'max_depth': 8, 'max_features': 3, 'n_estimators': 9}\n",
      "new best: 0.9666666666666668 {'criterion': 'entropy', 'max_depth': 10, 'max_features': 2, 'n_estimators': 15}\n",
      "new best: 0.9666666666666668 {'criterion': 'entropy', 'max_depth': 12, 'max_features': 4, 'n_estimators': 15}\n",
      "new best: 0.9666666666666668 {'criterion': 'gini', 'max_depth': 12, 'max_features': 4, 'n_estimators': 5}\n",
      "new best: 0.9666666666666668 {'criterion': 'entropy', 'max_depth': 2, 'max_features': 4, 'n_estimators': 3}\n",
      "new best: 0.9666666666666668 {'criterion': 'entropy', 'max_depth': 15, 'max_features': 4, 'n_estimators': 18}\n",
      "new best: 0.9666666666666668 {'criterion': 'entropy', 'max_depth': 14, 'max_features': 4, 'n_estimators': 9}\n",
      "new best: 0.9666666666666668 {'criterion': 'gini', 'max_depth': 17, 'max_features': 1, 'n_estimators': 8}\n",
      "new best: 0.9666666666666668 {'criterion': 'entropy', 'max_depth': 3, 'max_features': 4, 'n_estimators': 12}\n",
      "new best: 0.9666666666666668 {'criterion': 'entropy', 'max_depth': 19, 'max_features': 4, 'n_estimators': 19}\n",
      "new best: 0.9666666666666668 {'criterion': 'entropy', 'max_depth': 5, 'max_features': 3, 'n_estimators': 13}\n",
      "new best: 0.9666666666666668 {'criterion': 'gini', 'max_depth': 7, 'max_features': 2, 'n_estimators': 1}\n",
      "new best: 0.9666666666666668 {'criterion': 'entropy', 'max_depth': 9, 'max_features': 4, 'n_estimators': 10}\n",
      "new best: 0.9666666666666668 {'criterion': 'entropy', 'max_depth': 11, 'max_features': 1, 'n_estimators': 18}\n",
      "new best: 0.9666666666666668 {'criterion': 'gini', 'max_depth': 12, 'max_features': 4, 'n_estimators': 14}\n",
      "new best: 0.9666666666666668 {'criterion': 'entropy', 'max_depth': 8, 'max_features': 3, 'n_estimators': 9}\n",
      "new best: 0.9666666666666668 {'criterion': 'gini', 'max_depth': 17, 'max_features': 2, 'n_estimators': 4}\n",
      "new best: 0.9666666666666668 {'criterion': 'entropy', 'max_depth': 17, 'max_features': 2, 'n_estimators': 17}\n",
      "new best: 0.9666666666666668 {'criterion': 'entropy', 'max_depth': 15, 'max_features': 2, 'n_estimators': 17}\n",
      "new best: 0.9666666666666668 {'criterion': 'entropy', 'max_depth': 15, 'max_features': 2, 'n_estimators': 17}\n",
      "new best: 0.9666666666666668 {'criterion': 'entropy', 'max_depth': 10, 'max_features': 2, 'n_estimators': 15}\n",
      "new best: 0.9666666666666668 {'criterion': 'entropy', 'max_depth': 1, 'max_features': 3, 'n_estimators': 13}\n",
      "new best: 0.9666666666666668 {'criterion': 'entropy', 'max_depth': 4, 'max_features': 4, 'n_estimators': 6}\n",
      "new best: 0.9666666666666668 {'criterion': 'entropy', 'max_depth': 3, 'max_features': 3, 'n_estimators': 7}\n",
      "new best: 0.9666666666666668 {'criterion': 'gini', 'max_depth': 6, 'max_features': 2, 'n_estimators': 16}\n",
      "new best: 0.9666666666666668 {'criterion': 'gini', 'max_depth': 16, 'max_features': 3, 'n_estimators': 14}\n",
      "new best: 0.9666666666666668 {'criterion': 'gini', 'max_depth': 18, 'max_features': 1, 'n_estimators': 11}\n",
      "new best: 0.9666666666666668 {'criterion': 'gini', 'max_depth': 6, 'max_features': 3, 'n_estimators': 2}\n",
      "new best: 0.9666666666666668 {'criterion': 'entropy', 'max_depth': 13, 'max_features': 4, 'n_estimators': 15}\n",
      "new best: 0.9666666666666668 {'criterion': 'entropy', 'max_depth': 17, 'max_features': 4, 'n_estimators': 8}\n",
      "new best: 0.9666666666666668 {'criterion': 'entropy', 'max_depth': 2, 'max_features': 1, 'n_estimators': 16}\n"
     ]
    },
    {
     "name": "stdout",
     "output_type": "stream",
     "text": [
      "new best: 0.9666666666666668 {'criterion': 'entropy', 'max_depth': 4, 'max_features': 3, 'n_estimators': 13}\n",
      "new best: 0.9666666666666668 {'criterion': 'gini', 'max_depth': 4, 'max_features': 2, 'n_estimators': 3}\n",
      "new best: 0.9666666666666668 {'criterion': 'entropy', 'max_depth': 14, 'max_features': 3, 'n_estimators': 12}\n",
      "new best: 0.9666666666666668 {'criterion': 'entropy', 'max_depth': 15, 'max_features': 2, 'n_estimators': 17}\n",
      "new best: 0.9666666666666668 {'criterion': 'gini', 'max_depth': 17, 'max_features': 2, 'n_estimators': 17}\n",
      "new best: 0.9666666666666668 {'criterion': 'gini', 'max_depth': 19, 'max_features': 4, 'n_estimators': 14}\n",
      "new best: 0.9666666666666668 {'criterion': 'entropy', 'max_depth': 19, 'max_features': 4, 'n_estimators': 18}\n",
      "new best: 0.9666666666666668 {'criterion': 'entropy', 'max_depth': 8, 'max_features': 2, 'n_estimators': 17}\n",
      "new best: 0.9666666666666668 {'criterion': 'entropy', 'max_depth': 10, 'max_features': 2, 'n_estimators': 19}\n",
      "new best: 0.9666666666666668 {'criterion': 'gini', 'max_depth': 10, 'max_features': 2, 'n_estimators': 5}\n",
      "new best: 0.9666666666666668 {'criterion': 'gini', 'max_depth': 10, 'max_features': 4, 'n_estimators': 19}\n",
      "new best: 0.9666666666666668 {'criterion': 'entropy', 'max_depth': 12, 'max_features': 4, 'n_estimators': 10}\n",
      "new best: 0.9666666666666668 {'criterion': 'gini', 'max_depth': 5, 'max_features': 4, 'n_estimators': 14}\n",
      "new best: 0.9666666666666668 {'criterion': 'entropy', 'max_depth': 5, 'max_features': 1, 'n_estimators': 1}\n",
      "new best: 0.9666666666666668 {'criterion': 'entropy', 'max_depth': 15, 'max_features': 4, 'n_estimators': 18}\n",
      "new best: 0.9666666666666668 {'criterion': 'entropy', 'max_depth': 15, 'max_features': 2, 'n_estimators': 17}\n",
      "new best: 0.9666666666666668 {'criterion': 'entropy', 'max_depth': 15, 'max_features': 2, 'n_estimators': 17}\n",
      "new best: 0.9666666666666668 {'criterion': 'entropy', 'max_depth': 7, 'max_features': 4, 'n_estimators': 6}\n",
      "new best: 0.9666666666666668 {'criterion': 'gini', 'max_depth': 6, 'max_features': 3, 'n_estimators': 16}\n",
      "new best: 0.9666666666666668 {'criterion': 'gini', 'max_depth': 9, 'max_features': 3, 'n_estimators': 15}\n",
      "new best: 0.9666666666666668 {'criterion': 'entropy', 'max_depth': 3, 'max_features': 4, 'n_estimators': 4}\n",
      "new best: 0.9666666666666668 {'criterion': 'gini', 'max_depth': 12, 'max_features': 1, 'n_estimators': 15}\n",
      "new best: 0.9666666666666668 {'criterion': 'entropy', 'max_depth': 12, 'max_features': 4, 'n_estimators': 15}\n",
      "new best: 0.9666666666666668 {'criterion': 'gini', 'max_depth': 12, 'max_features': 4, 'n_estimators': 15}\n",
      "new best: 0.9666666666666668 {'criterion': 'entropy', 'max_depth': 11, 'max_features': 3, 'n_estimators': 13}\n",
      "new best: 0.9666666666666668 {'criterion': 'gini', 'max_depth': 1, 'max_features': 3, 'n_estimators': 7}\n",
      "new best: 0.9666666666666668 {'criterion': 'entropy', 'max_depth': 16, 'max_features': 3, 'n_estimators': 13}\n",
      "new best: 0.9666666666666668 {'criterion': 'entropy', 'max_depth': 4, 'max_features': 1, 'n_estimators': 11}\n",
      "new best: 0.9666666666666668 {'criterion': 'gini', 'max_depth': 18, 'max_features': 3, 'n_estimators': 18}\n",
      "new best: 0.9666666666666668 {'criterion': 'entropy', 'max_depth': 3, 'max_features': 2, 'n_estimators': 2}\n",
      "new best: 0.9666666666666668 {'criterion': 'entropy', 'max_depth': 14, 'max_features': 4, 'n_estimators': 12}\n",
      "new best: 0.9666666666666668 {'criterion': 'gini', 'max_depth': 19, 'max_features': 4, 'n_estimators': 14}\n",
      "new best: 0.9666666666666668 {'criterion': 'gini', 'max_depth': 3, 'max_features': 4, 'n_estimators': 14}\n",
      "new best: 0.9666666666666668 {'criterion': 'entropy', 'max_depth': 15, 'max_features': 1, 'n_estimators': 3}\n",
      "new best: 0.9666666666666668 {'criterion': 'entropy', 'max_depth': 13, 'max_features': 4, 'n_estimators': 5}\n",
      "new best: 0.9666666666666668 {'criterion': 'entropy', 'max_depth': 3, 'max_features': 4, 'n_estimators': 12}\n",
      "new best: 0.9666666666666668 {'criterion': 'entropy', 'max_depth': 3, 'max_features': 4, 'n_estimators': 12}\n",
      "new best: 0.9666666666666668 {'criterion': 'gini', 'max_depth': 4, 'max_features': 3, 'n_estimators': 12}\n",
      "new best: 0.9666666666666668 {'criterion': 'gini', 'max_depth': 6, 'max_features': 2, 'n_estimators': 12}\n",
      "new best: 0.9666666666666668 {'criterion': 'entropy', 'max_depth': 10, 'max_features': 2, 'n_estimators': 19}\n",
      "new best: 0.9666666666666668 {'criterion': 'entropy', 'max_depth': 14, 'max_features': 3, 'n_estimators': 16}\n",
      "new best: 0.9666666666666668 {'criterion': 'entropy', 'max_depth': 17, 'max_features': 1, 'n_estimators': 10}\n",
      "new best: 0.9666666666666668 {'criterion': 'entropy', 'max_depth': 2, 'max_features': 2, 'n_estimators': 19}\n",
      "new best: 0.9666666666666668 {'criterion': 'gini', 'max_depth': 17, 'max_features': 2, 'n_estimators': 16}\n",
      "new best: 0.9666666666666668 {'criterion': 'gini', 'max_depth': 5, 'max_features': 4, 'n_estimators': 14}\n",
      "new best: 0.9666666666666668 {'criterion': 'gini', 'max_depth': 5, 'max_features': 4, 'n_estimators': 1}\n",
      "new best: 0.9666666666666668 {'criterion': 'gini', 'max_depth': 19, 'max_features': 4, 'n_estimators': 14}\n",
      "new best: 0.9666666666666668 {'criterion': 'entropy', 'max_depth': 5, 'max_features': 3, 'n_estimators': 18}\n",
      "new best: 0.9666666666666668 {'criterion': 'entropy', 'max_depth': 7, 'max_features': 3, 'n_estimators': 13}\n",
      "new best: 0.9666666666666668 {'criterion': 'gini', 'max_depth': 19, 'max_features': 1, 'n_estimators': 6}\n",
      "new best: 0.9666666666666668 {'criterion': 'entropy', 'max_depth': 3, 'max_features': 4, 'n_estimators': 4}\n",
      "new best: 0.9666666666666668 {'criterion': 'entropy', 'max_depth': 19, 'max_features': 4, 'n_estimators': 14}\n",
      "new best: 0.9733333333333334 {'criterion': 'gini', 'max_depth': 9, 'max_features': 4, 'n_estimators': 14}\n",
      "new best: 0.9733333333333334 {'criterion': 'entropy', 'max_depth': 9, 'max_features': 3, 'n_estimators': 9}\n",
      "new best: 0.9733333333333334 {'criterion': 'entropy', 'max_depth': 9, 'max_features': 2, 'n_estimators': 19}\n",
      "new best: 0.9733333333333334 {'criterion': 'gini', 'max_depth': 15, 'max_features': 4, 'n_estimators': 7}\n",
      "new best: 0.9733333333333334 {'criterion': 'entropy', 'max_depth': 9, 'max_features': 2, 'n_estimators': 11}\n",
      "new best: 0.9733333333333334 {'criterion': 'gini', 'max_depth': 5, 'max_features': 4, 'n_estimators': 14}\n",
      "new best: 0.9733333333333334 {'criterion': 'gini', 'max_depth': 6, 'max_features': 1, 'n_estimators': 16}\n",
      "new best: 0.9733333333333334 {'criterion': 'gini', 'max_depth': 9, 'max_features': 4, 'n_estimators': 3}\n",
      "new best: 0.9733333333333334 {'criterion': 'entropy', 'max_depth': 15, 'max_features': 2, 'n_estimators': 18}\n",
      "new best: 0.9733333333333334 {'criterion': 'entropy', 'max_depth': 1, 'max_features': 4, 'n_estimators': 8}\n",
      "new best: 0.9733333333333334 {'criterion': 'gini', 'max_depth': 11, 'max_features': 2, 'n_estimators': 2}\n",
      "new best: 0.9733333333333334 {'criterion': 'entropy', 'max_depth': 4, 'max_features': 3, 'n_estimators': 13}\n",
      "new best: 0.9733333333333334 {'criterion': 'entropy', 'max_depth': 16, 'max_features': 4, 'n_estimators': 12}\n",
      "new best: 0.9733333333333334 {'criterion': 'entropy', 'max_depth': 3, 'max_features': 4, 'n_estimators': 5}\n",
      "new best: 0.9733333333333334 {'criterion': 'gini', 'max_depth': 5, 'max_features': 4, 'n_estimators': 14}\n",
      "new best: 0.9733333333333334 {'criterion': 'gini', 'max_depth': 17, 'max_features': 3, 'n_estimators': 1}\n",
      "new best: 0.9733333333333334 {'criterion': 'gini', 'max_depth': 17, 'max_features': 2, 'n_estimators': 17}\n",
      "new best: 0.9733333333333334 {'criterion': 'gini', 'max_depth': 13, 'max_features': 4, 'n_estimators': 17}\n",
      "new best: 0.9733333333333334 {'criterion': 'entropy', 'max_depth': 3, 'max_features': 4, 'n_estimators': 18}\n",
      "new best: 0.9733333333333334 {'criterion': 'gini', 'max_depth': 14, 'max_features': 3, 'n_estimators': 16}\n",
      "new best: 0.9733333333333334 {'criterion': 'gini', 'max_depth': 18, 'max_features': 4, 'n_estimators': 10}\n",
      "new best: 0.9733333333333334 {'criterion': 'gini', 'max_depth': 8, 'max_features': 4, 'n_estimators': 10}\n",
      "new best: 0.9733333333333334 {'criterion': 'gini', 'max_depth': 6, 'max_features': 4, 'n_estimators': 14}\n",
      "new best: 0.9733333333333334 {'criterion': 'gini', 'max_depth': 9, 'max_features': 1, 'n_estimators': 13}\n",
      "new best: 0.9733333333333334 {'criterion': 'gini', 'max_depth': 19, 'max_features': 4, 'n_estimators': 15}\n",
      "new best: 0.9733333333333334 {'criterion': 'entropy', 'max_depth': 3, 'max_features': 4, 'n_estimators': 9}\n",
      "new best: 0.9733333333333334 {'criterion': 'gini', 'max_depth': 6, 'max_features': 4, 'n_estimators': 4}\n",
      "new best: 0.9733333333333334 {'criterion': 'entropy', 'max_depth': 10, 'max_features': 3, 'n_estimators': 19}\n"
     ]
    },
    {
     "name": "stdout",
     "output_type": "stream",
     "text": [
      "new best: 0.9733333333333334 {'criterion': 'entropy', 'max_depth': 10, 'max_features': 3, 'n_estimators': 6}\n",
      "new best: 0.9733333333333334 {'criterion': 'gini', 'max_depth': 12, 'max_features': 4, 'n_estimators': 12}\n",
      "new best: 0.9733333333333334 {'criterion': 'entropy', 'max_depth': 2, 'max_features': 2, 'n_estimators': 19}\n",
      "new best: 0.9733333333333334 {'criterion': 'gini', 'max_depth': 12, 'max_features': 4, 'n_estimators': 15}\n",
      "new best: 0.9733333333333334 {'criterion': 'gini', 'max_depth': 9, 'max_features': 2, 'n_estimators': 19}\n",
      "new best: 0.9733333333333334 {'criterion': 'gini', 'max_depth': 14, 'max_features': 3, 'n_estimators': 7}\n",
      "new best: 0.9733333333333334 {'criterion': 'gini', 'max_depth': 14, 'max_features': 4, 'n_estimators': 12}\n",
      "new best: 0.9733333333333334 {'criterion': 'entropy', 'max_depth': 15, 'max_features': 1, 'n_estimators': 18}\n",
      "new best: 0.9733333333333334 {'criterion': 'entropy', 'max_depth': 15, 'max_features': 4, 'n_estimators': 17}\n",
      "new best: 0.9733333333333334 {'criterion': 'gini', 'max_depth': 4, 'max_features': 2, 'n_estimators': 8}\n",
      "new best: 0.9733333333333334 {'criterion': 'gini', 'max_depth': 17, 'max_features': 2, 'n_estimators': 17}\n",
      "new best: 0.9733333333333334 {'criterion': 'gini', 'max_depth': 7, 'max_features': 4, 'n_estimators': 14}\n",
      "new best: 0.9733333333333334 {'criterion': 'gini', 'max_depth': 5, 'max_features': 4, 'n_estimators': 16}\n",
      "new best: 0.9733333333333334 {'criterion': 'gini', 'max_depth': 11, 'max_features': 2, 'n_estimators': 11}\n",
      "new best: 0.9733333333333334 {'criterion': 'gini', 'max_depth': 1, 'max_features': 4, 'n_estimators': 3}\n",
      "new best: 0.9733333333333334 {'criterion': 'gini', 'max_depth': 18, 'max_features': 4, 'n_estimators': 10}\n",
      "new best: 0.9733333333333334 {'criterion': 'gini', 'max_depth': 16, 'max_features': 1, 'n_estimators': 14}\n",
      "new best: 0.9733333333333334 {'criterion': 'entropy', 'max_depth': 9, 'max_features': 2, 'n_estimators': 19}\n",
      "new best: 0.9733333333333334 {'criterion': 'entropy', 'max_depth': 5, 'max_features': 4, 'n_estimators': 14}\n",
      "new best: 0.9733333333333334 {'criterion': 'entropy', 'max_depth': 17, 'max_features': 2, 'n_estimators': 15}\n",
      "new best: 0.9733333333333334 {'criterion': 'gini', 'max_depth': 18, 'max_features': 3, 'n_estimators': 10}\n",
      "new best: 0.9733333333333334 {'criterion': 'gini', 'max_depth': 8, 'max_features': 4, 'n_estimators': 2}\n",
      "new best: 0.9733333333333334 {'criterion': 'entropy', 'max_depth': 10, 'max_features': 2, 'n_estimators': 13}\n",
      "new best: 0.9733333333333334 {'criterion': 'entropy', 'max_depth': 19, 'max_features': 3, 'n_estimators': 15}\n",
      "new best: 0.9733333333333334 {'criterion': 'entropy', 'max_depth': 10, 'max_features': 3, 'n_estimators': 5}\n",
      "new best: 0.9733333333333334 {'criterion': 'gini', 'max_depth': 5, 'max_features': 4, 'n_estimators': 14}\n",
      "new best: 0.9733333333333334 {'criterion': 'gini', 'max_depth': 13, 'max_features': 4, 'n_estimators': 16}\n",
      "new best: 0.9733333333333334 {'criterion': 'gini', 'max_depth': 12, 'max_features': 4, 'n_estimators': 10}\n",
      "new best: 0.9733333333333334 {'criterion': 'gini', 'max_depth': 6, 'max_features': 1, 'n_estimators': 10}\n",
      "new best: 0.9733333333333334 {'criterion': 'entropy', 'max_depth': 2, 'max_features': 4, 'n_estimators': 1}\n",
      "new best: 0.9733333333333334 {'criterion': 'gini', 'max_depth': 12, 'max_features': 4, 'n_estimators': 15}\n",
      "new best: 0.9733333333333334 {'criterion': 'gini', 'max_depth': 7, 'max_features': 4, 'n_estimators': 15}\n",
      "new best: 0.9733333333333334 {'criterion': 'entropy', 'max_depth': 9, 'max_features': 1, 'n_estimators': 4}\n",
      "new best: 0.9733333333333334 {'criterion': 'entropy', 'max_depth': 9, 'max_features': 4, 'n_estimators': 15}\n",
      "new best: 0.9733333333333334 {'criterion': 'entropy', 'max_depth': 6, 'max_features': 3, 'n_estimators': 13}\n",
      "new best: 0.9733333333333334 {'criterion': 'gini', 'max_depth': 18, 'max_features': 3, 'n_estimators': 10}\n",
      "new best: 0.9733333333333334 {'criterion': 'gini', 'max_depth': 18, 'max_features': 3, 'n_estimators': 10}\n",
      "new best: 0.9733333333333334 {'criterion': 'entropy', 'max_depth': 11, 'max_features': 3, 'n_estimators': 18}\n",
      "new best: 0.9733333333333334 {'criterion': 'gini', 'max_depth': 10, 'max_features': 2, 'n_estimators': 16}\n",
      "new best: 0.9733333333333334 {'criterion': 'entropy', 'max_depth': 4, 'max_features': 3, 'n_estimators': 12}\n",
      "new best: 0.9733333333333334 {'criterion': 'entropy', 'max_depth': 3, 'max_features': 4, 'n_estimators': 15}\n",
      "new best: 0.9733333333333334 {'criterion': 'entropy', 'max_depth': 3, 'max_features': 1, 'n_estimators': 9}\n",
      "new best: 0.9733333333333334 {'criterion': 'entropy', 'max_depth': 9, 'max_features': 2, 'n_estimators': 6}\n",
      "new best: 0.9733333333333334 {'criterion': 'gini', 'max_depth': 4, 'max_features': 2, 'n_estimators': 11}\n",
      "new best: 0.9733333333333334 {'criterion': 'gini', 'max_depth': 1, 'max_features': 4, 'n_estimators': 18}\n",
      "new best: 0.9733333333333334 {'criterion': 'entropy', 'max_depth': 3, 'max_features': 4, 'n_estimators': 7}\n",
      "new best: 0.9733333333333334 {'criterion': 'entropy', 'max_depth': 3, 'max_features': 4, 'n_estimators': 12}\n",
      "new best: 0.9733333333333334 {'criterion': 'gini', 'max_depth': 12, 'max_features': 4, 'n_estimators': 15}\n",
      "new best: 0.9733333333333334 {'criterion': 'entropy', 'max_depth': 9, 'max_features': 3, 'n_estimators': 19}\n",
      "new best: 0.9733333333333334 {'criterion': 'gini', 'max_depth': 16, 'max_features': 4, 'n_estimators': 14}\n",
      "new best: 0.9733333333333334 {'criterion': 'gini', 'max_depth': 16, 'max_features': 1, 'n_estimators': 13}\n",
      "new best: 0.9733333333333334 {'criterion': 'entropy', 'max_depth': 4, 'max_features': 3, 'n_estimators': 13}\n",
      "new best: 0.9733333333333334 {'criterion': 'gini', 'max_depth': 18, 'max_features': 2, 'n_estimators': 2}\n",
      "new best: 0.9733333333333334 {'criterion': 'gini', 'max_depth': 18, 'max_features': 3, 'n_estimators': 3}\n",
      "new best: 0.9733333333333334 {'criterion': 'gini', 'max_depth': 18, 'max_features': 3, 'n_estimators': 8}\n",
      "new best: 0.9733333333333334 {'criterion': 'gini', 'max_depth': 17, 'max_features': 2, 'n_estimators': 16}\n",
      "new best: 0.9733333333333334 {'criterion': 'entropy', 'max_depth': 10, 'max_features': 2, 'n_estimators': 19}\n",
      "new best: 0.9733333333333334 {'criterion': 'gini', 'max_depth': 17, 'max_features': 2, 'n_estimators': 17}\n",
      "new best: 0.9733333333333334 {'criterion': 'gini', 'max_depth': 5, 'max_features': 1, 'n_estimators': 16}\n",
      "new best: 0.9733333333333334 {'criterion': 'entropy', 'max_depth': 6, 'max_features': 3, 'n_estimators': 5}\n",
      "new best: 0.9733333333333334 {'criterion': 'entropy', 'max_depth': 6, 'max_features': 3, 'n_estimators': 5}\n",
      "new best: 0.9733333333333334 {'criterion': 'gini', 'max_depth': 15, 'max_features': 4, 'n_estimators': 18}\n",
      "new best: 0.9733333333333334 {'criterion': 'entropy', 'max_depth': 13, 'max_features': 4, 'n_estimators': 1}\n",
      "new best: 0.9733333333333334 {'criterion': 'gini', 'max_depth': 19, 'max_features': 4, 'n_estimators': 17}\n",
      "new best: 0.9733333333333334 {'criterion': 'gini', 'max_depth': 8, 'max_features': 4, 'n_estimators': 12}\n",
      "new best: 0.9733333333333334 {'criterion': 'gini', 'max_depth': 6, 'max_features': 2, 'n_estimators': 16}\n",
      "new best: 0.9733333333333334 {'criterion': 'entropy', 'max_depth': 10, 'max_features': 4, 'n_estimators': 4}\n",
      "new best: 0.9733333333333334 {'criterion': 'entropy', 'max_depth': 19, 'max_features': 3, 'n_estimators': 14}\n",
      "new best: 0.9733333333333334 {'criterion': 'entropy', 'max_depth': 19, 'max_features': 3, 'n_estimators': 14}\n",
      "new best: 0.9733333333333334 {'criterion': 'entropy', 'max_depth': 14, 'max_features': 1, 'n_estimators': 6}\n",
      "new best: 0.9733333333333334 {'criterion': 'gini', 'max_depth': 17, 'max_features': 2, 'n_estimators': 10}\n",
      "new best: 0.9733333333333334 {'criterion': 'entropy', 'max_depth': 2, 'max_features': 2, 'n_estimators': 17}\n",
      "new best: 0.9733333333333334 {'criterion': 'gini', 'max_depth': 5, 'max_features': 1, 'n_estimators': 9}\n",
      "new best: 0.9733333333333334 {'criterion': 'gini', 'max_depth': 7, 'max_features': 4, 'n_estimators': 7}\n",
      "new best: 0.9733333333333334 {'criterion': 'gini', 'max_depth': 5, 'max_features': 4, 'n_estimators': 12}\n",
      "new best: 0.9733333333333334 {'criterion': 'entropy', 'max_depth': 4, 'max_features': 2, 'n_estimators': 13}\n",
      "new best: 0.9733333333333334 {'criterion': 'entropy', 'max_depth': 12, 'max_features': 3, 'n_estimators': 8}\n",
      "new best: 0.9733333333333334 {'criterion': 'gini', 'max_depth': 5, 'max_features': 4, 'n_estimators': 18}\n",
      "new best: 0.9733333333333334 {'criterion': 'gini', 'max_depth': 18, 'max_features': 4, 'n_estimators': 3}\n"
     ]
    },
    {
     "name": "stdout",
     "output_type": "stream",
     "text": [
      "new best: 0.9733333333333334 {'criterion': 'gini', 'max_depth': 15, 'max_features': 4, 'n_estimators': 11}\n",
      "new best: 0.9733333333333334 {'criterion': 'gini', 'max_depth': 15, 'max_features': 2, 'n_estimators': 11}\n",
      "new best: 0.9733333333333334 {'criterion': 'entropy', 'max_depth': 19, 'max_features': 4, 'n_estimators': 2}\n",
      "new best: 0.9733333333333334 {'criterion': 'gini', 'max_depth': 10, 'max_features': 4, 'n_estimators': 19}\n",
      "new best: 0.9733333333333334 {'criterion': 'gini', 'max_depth': 11, 'max_features': 4, 'n_estimators': 14}\n",
      "new best: 0.9733333333333334 {'criterion': 'entropy', 'max_depth': 6, 'max_features': 4, 'n_estimators': 5}\n",
      "new best: 0.9733333333333334 {'criterion': 'gini', 'max_depth': 6, 'max_features': 3, 'n_estimators': 5}\n",
      "new best: 0.9733333333333334 {'criterion': 'entropy', 'max_depth': 13, 'max_features': 3, 'n_estimators': 7}\n",
      "new best: 0.9733333333333334 {'criterion': 'gini', 'max_depth': 1, 'max_features': 1, 'n_estimators': 16}\n",
      "new best: 0.9733333333333334 {'criterion': 'gini', 'max_depth': 12, 'max_features': 2, 'n_estimators': 10}\n",
      "new best: 0.9733333333333334 {'criterion': 'gini', 'max_depth': 12, 'max_features': 4, 'n_estimators': 13}\n",
      "new best: 0.9733333333333334 {'criterion': 'gini', 'max_depth': 8, 'max_features': 2, 'n_estimators': 14}\n",
      "new best: 0.9733333333333334 {'criterion': 'gini', 'max_depth': 8, 'max_features': 3, 'n_estimators': 1}\n",
      "new best: 0.9733333333333334 {'criterion': 'gini', 'max_depth': 18, 'max_features': 3, 'n_estimators': 10}\n",
      "new best: 0.9733333333333334 {'criterion': 'gini', 'max_depth': 19, 'max_features': 4, 'n_estimators': 17}\n",
      "new best: 0.9733333333333334 {'criterion': 'gini', 'max_depth': 2, 'max_features': 4, 'n_estimators': 6}\n",
      "new best: 0.9733333333333334 {'criterion': 'entropy', 'max_depth': 11, 'max_features': 3, 'n_estimators': 18}\n",
      "new best: 0.9733333333333334 {'criterion': 'entropy', 'max_depth': 11, 'max_features': 4, 'n_estimators': 18}\n",
      "new best: 0.9733333333333334 {'criterion': 'entropy', 'max_depth': 4, 'max_features': 2, 'n_estimators': 4}\n",
      "new best: 0.9733333333333334 {'criterion': 'gini', 'max_depth': 15, 'max_features': 2, 'n_estimators': 16}\n",
      "new best: 0.9733333333333334 {'criterion': 'entropy', 'max_depth': 15, 'max_features': 2, 'n_estimators': 12}\n",
      "new best: 0.9733333333333334 {'criterion': 'entropy', 'max_depth': 6, 'max_features': 3, 'n_estimators': 5}\n",
      "new best: 0.9733333333333334 {'criterion': 'entropy', 'max_depth': 2, 'max_features': 2, 'n_estimators': 19}\n",
      "new best: 0.9733333333333334 {'criterion': 'entropy', 'max_depth': 2, 'max_features': 2, 'n_estimators': 17}\n",
      "new best: 0.9733333333333334 {'criterion': 'gini', 'max_depth': 10, 'max_features': 2, 'n_estimators': 19}\n",
      "new best: 0.9733333333333334 {'criterion': 'gini', 'max_depth': 10, 'max_features': 2, 'n_estimators': 9}\n",
      "new best: 0.9733333333333334 {'criterion': 'gini', 'max_depth': 4, 'max_features': 3, 'n_estimators': 13}\n",
      "new best: 0.9733333333333334 {'criterion': 'gini', 'max_depth': 9, 'max_features': 2, 'n_estimators': 14}\n",
      "new best: 0.9733333333333334 {'criterion': 'entropy', 'max_depth': 3, 'max_features': 3, 'n_estimators': 5}\n",
      "new best: 0.9733333333333334 {'criterion': 'gini', 'max_depth': 17, 'max_features': 3, 'n_estimators': 10}\n",
      "new best: 0.9733333333333334 {'criterion': 'entropy', 'max_depth': 12, 'max_features': 4, 'n_estimators': 19}\n",
      "new best: 0.9733333333333334 {'criterion': 'gini', 'max_depth': 9, 'max_features': 4, 'n_estimators': 19}\n",
      "new best: 0.9733333333333334 {'criterion': 'gini', 'max_depth': 7, 'max_features': 4, 'n_estimators': 11}\n",
      "new best: 0.9733333333333334 {'criterion': 'gini', 'max_depth': 1, 'max_features': 1, 'n_estimators': 15}\n",
      "new best: 0.9733333333333334 {'criterion': 'gini', 'max_depth': 19, 'max_features': 4, 'n_estimators': 10}\n",
      "new best: 0.9733333333333334 {'criterion': 'gini', 'max_depth': 14, 'max_features': 4, 'n_estimators': 12}\n",
      "new best: 0.9733333333333334 {'criterion': 'gini', 'max_depth': 17, 'max_features': 2, 'n_estimators': 5}\n",
      "new best: 0.9733333333333334 {'criterion': 'gini', 'max_depth': 19, 'max_features': 2, 'n_estimators': 17}\n",
      "new best: 0.9733333333333334 {'criterion': 'entropy', 'max_depth': 17, 'max_features': 2, 'n_estimators': 17}\n",
      "new best: 0.9733333333333334 {'criterion': 'gini', 'max_depth': 16, 'max_features': 3, 'n_estimators': 13}\n",
      "new best: 0.9733333333333334 {'criterion': 'gini', 'max_depth': 12, 'max_features': 4, 'n_estimators': 8}\n",
      "new best: 0.9733333333333334 {'criterion': 'gini', 'max_depth': 14, 'max_features': 3, 'n_estimators': 14}\n",
      "new best: 0.9733333333333334 {'criterion': 'gini', 'max_depth': 19, 'max_features': 4, 'n_estimators': 2}\n",
      "new best: 0.9733333333333334 {'criterion': 'entropy', 'max_depth': 14, 'max_features': 3, 'n_estimators': 11}\n",
      "new best: 0.9733333333333334 {'criterion': 'gini', 'max_depth': 15, 'max_features': 4, 'n_estimators': 11}\n",
      "new best: 0.9733333333333334 {'criterion': 'gini', 'max_depth': 13, 'max_features': 4, 'n_estimators': 11}\n",
      "new best: 0.9733333333333334 {'criterion': 'gini', 'max_depth': 8, 'max_features': 2, 'n_estimators': 16}\n",
      "new best: 0.9733333333333334 {'criterion': 'entropy', 'max_depth': 9, 'max_features': 3, 'n_estimators': 3}\n",
      "new best: 0.9733333333333334 {'criterion': 'entropy', 'max_depth': 10, 'max_features': 2, 'n_estimators': 19}\n",
      "new best: 0.9733333333333334 {'criterion': 'entropy', 'max_depth': 18, 'max_features': 3, 'n_estimators': 1}\n",
      "new best: 0.9733333333333334 {'criterion': 'entropy', 'max_depth': 14, 'max_features': 3, 'n_estimators': 17}\n",
      "new best: 0.9733333333333334 {'criterion': 'gini', 'max_depth': 3, 'max_features': 1, 'n_estimators': 14}\n",
      "new best: 0.9733333333333334 {'criterion': 'gini', 'max_depth': 15, 'max_features': 2, 'n_estimators': 16}\n",
      "new best: 0.9733333333333334 {'criterion': 'gini', 'max_depth': 4, 'max_features': 3, 'n_estimators': 13}\n",
      "new best: 0.9733333333333334 {'criterion': 'gini', 'max_depth': 11, 'max_features': 3, 'n_estimators': 10}\n",
      "new best: 0.9733333333333334 {'criterion': 'entropy', 'max_depth': 7, 'max_features': 4, 'n_estimators': 15}\n",
      "new best: 0.9733333333333334 {'criterion': 'gini', 'max_depth': 5, 'max_features': 4, 'n_estimators': 4}\n",
      "new best: 0.9733333333333334 {'criterion': 'entropy', 'max_depth': 11, 'max_features': 4, 'n_estimators': 18}\n",
      "new best: 0.9733333333333334 {'criterion': 'gini', 'max_depth': 5, 'max_features': 2, 'n_estimators': 17}\n",
      "new best: 0.9733333333333334 {'criterion': 'gini', 'max_depth': 18, 'max_features': 1, 'n_estimators': 6}\n",
      "new best: 0.9733333333333334 {'criterion': 'entropy', 'max_depth': 6, 'max_features': 3, 'n_estimators': 18}\n",
      "best parameters:\n",
      "{'criterion': 0, 'max_depth': 8, 'max_features': 3, 'n_estimators': 13, 'normalize': 0, 'scale': 1}\n"
     ]
    }
   ],
   "source": [
    "trials = Trials()\n",
    "best = fmin(f, space4rf, algo=tpe.suggest, max_evals=300, trials=trials)\n",
    "print('best parameters:')\n",
    "print(best)"
   ]
  }
 ],
 "metadata": {
  "kernelspec": {
   "display_name": "Python 3",
   "language": "python",
   "name": "python3"
  },
  "language_info": {
   "codemirror_mode": {
    "name": "ipython",
    "version": 3
   },
   "file_extension": ".py",
   "mimetype": "text/x-python",
   "name": "python",
   "nbconvert_exporter": "python",
   "pygments_lexer": "ipython3",
   "version": "3.7.1"
  }
 },
 "nbformat": 4,
 "nbformat_minor": 2
}
