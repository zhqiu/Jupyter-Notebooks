{
 "cells": [
  {
   "cell_type": "markdown",
   "metadata": {},
   "source": [
    "来源：https://towardsdatascience.com/markov-chain-monte-carlo-in-python-44f7e609be98"
   ]
  },
  {
   "cell_type": "code",
   "execution_count": 1,
   "metadata": {},
   "outputs": [
    {
     "name": "stderr",
     "output_type": "stream",
     "text": [
      "WARNING (theano.configdefaults): g++ not available, if using conda: `conda install m2w64-toolchain`\n",
      "d:\\python\\lib\\site-packages\\theano\\configdefaults.py:560: UserWarning: DeprecationWarning: there is no c++ compiler.This is deprecated and with Theano 0.11 a c++ compiler will be mandatory\n",
      "  warnings.warn(\"DeprecationWarning: there is no c++ compiler.\"\n",
      "WARNING (theano.configdefaults): g++ not detected ! Theano will be unable to execute optimized C-implementations (for both CPU and GPU) and will default to Python implementations. Performance will be severely degraded. To remove this warning, set Theano flags cxx to an empty string.\n",
      "WARNING (theano.tensor.blas): Using NumPy C-API based implementation for BLAS functions.\n"
     ]
    }
   ],
   "source": [
    "import pandas as pd\n",
    "\n",
    "import matplotlib\n",
    "import matplotlib.pyplot as plt\n",
    "\n",
    "import numpy as np\n",
    "\n",
    "import pymc3 as pm\n",
    "\n",
    "import theano.tensor as tt"
   ]
  },
  {
   "cell_type": "markdown",
   "metadata": {},
   "source": [
    "## 本文的目标"
   ]
  },
  {
   "cell_type": "markdown",
   "metadata": {},
   "source": [
    "利用logistic function预测时刻t时入睡的概率"
   ]
  },
  {
   "cell_type": "markdown",
   "metadata": {},
   "source": [
    "## $P(sleep|time)=\\frac{1}{1+e^{\\beta t+\\alpha}}$"
   ]
  },
  {
   "cell_type": "markdown",
   "metadata": {},
   "source": [
    "并使用MCMC确定参数 $\\beta$ 和 $\\alpha$"
   ]
  },
  {
   "cell_type": "markdown",
   "metadata": {},
   "source": [
    "## MCMC"
   ]
  },
  {
   "cell_type": "markdown",
   "metadata": {},
   "source": [
    "Markov Chain是一种下一时刻状态只依赖当前状态的过程。Monte Carlo是一种通用的技术，通过不断生成随机的样本，最终获得问题的数值解，比如对于一个概率分布而言，可以计算该分布的期望，中位数等等。"
   ]
  },
  {
   "cell_type": "markdown",
   "metadata": {},
   "source": [
    "所以MCMC就是不断采样以获得问题的解；并且利用Markov Chain技术采样，即下个样本只与当前样本有关。由Markov Chain的性质可知，样本最后会收敛于某个分布（平稳分布，要求样本间的转移满足细致平稳条件）。"
   ]
  },
  {
   "cell_type": "markdown",
   "metadata": {},
   "source": [
    "MCMC可以看成在样本空间中随机行走，最终样本会收敛于真实分布。"
   ]
  },
  {
   "cell_type": "markdown",
   "metadata": {},
   "source": [
    "这里采用一种特定的MCMC算法 --- Metropolis Hastings算法。这个算法的细致平稳条件如下："
   ]
  },
  {
   "cell_type": "markdown",
   "metadata": {},
   "source": [
    "$p(i)q(i,j)\\alpha(i,j)=p(j)q(j,i)\\alpha(j,i)$"
   ]
  },
  {
   "cell_type": "markdown",
   "metadata": {},
   "source": [
    "这里q(i,j)为转移矩阵Q的i行j列，为了简单，设Q为全1矩阵。$\\alpha(i,j)$为接受率，假设当前状态为i（本问题中就是要确定的参数），想要转移到j，这里通过检查状态j是否与观测值相符来确定是接受j作为下个状态，还是拒绝j，仍以i为下个状态。"
   ]
  },
  {
   "cell_type": "markdown",
   "metadata": {},
   "source": [
    "## Python Implementation"
   ]
  },
  {
   "cell_type": "code",
   "execution_count": 2,
   "metadata": {},
   "outputs": [],
   "source": [
    "sleep_data = pd.read_csv('data/sleep_data.csv')\n",
    "\n",
    "# labels for plotting\n",
    "sleep_labels = ['9:00', '9:30', '10:00', '10:30', '11:00', '11:30', '12:00']"
   ]
  },
  {
   "cell_type": "code",
   "execution_count": 3,
   "metadata": {},
   "outputs": [
    {
     "name": "stdout",
     "output_type": "stream",
     "text": [
      "Number of sleep observations 11340\n"
     ]
    }
   ],
   "source": [
    "print('Number of sleep observations %d' % len(sleep_data))"
   ]
  },
  {
   "cell_type": "code",
   "execution_count": 4,
   "metadata": {},
   "outputs": [
    {
     "data": {
      "image/png": "[encoded data removed]",
      "text/plain": [
       "<Figure size 432x288 with 1 Axes>"
      ]
     },
     "metadata": {
      "needs_background": "light"
     },
     "output_type": "display_data"
    }
   ],
   "source": [
    "# Sleep data\n",
    "plt.scatter(sleep_data['time_offset'], sleep_data['indicator'], \n",
    "            s= 60, alpha=0.01, facecolor = 'b', edgecolors='b')\n",
    "plt.yticks([0, 1], ['Awake', 'Asleep']); plt.xlabel('PM Time'); \n",
    "plt.title('Falling Asleep Data', size = 18)\n",
    "plt.xticks([-60, -30, 0, 30, 60, 90, 120], sleep_labels);"
   ]
  },
  {
   "cell_type": "markdown",
   "metadata": {},
   "source": [
    "### 调用PyMC3"
   ]
  },
  {
   "cell_type": "code",
   "execution_count": 5,
   "metadata": {},
   "outputs": [],
   "source": [
    "# Sort the values by time offset\n",
    "# time offset 从 60 到 119， 对应的时间是 21:00:00 到 23:59:00\n",
    "sleep_data.sort_values('time_offset', inplace=True)\n",
    "\n",
    "# Time is the time offset\n",
    "time = np.array(sleep_data.loc[:, 'time_offset'])\n",
    "\n",
    "# Observations are the indicator\n",
    "sleep_obs = np.array(sleep_data.loc[:, 'indicator'])"
   ]
  },
  {
   "cell_type": "code",
   "execution_count": 6,
   "metadata": {},
   "outputs": [
    {
     "name": "stderr",
     "output_type": "stream",
     "text": [
      "Only 200 samples in chain.\n",
      "Multiprocess sampling (4 chains in 4 jobs)\n",
      "CompoundStep\n",
      ">Metropolis: [beta]\n",
      ">Metropolis: [alpha]\n",
      "Sampling 4 chains: 100%|██████████████████████████████████████████████████████| 2800/2800 [1:01:49<00:00,  1.06s/draws]\n",
      "The gelman-rubin statistic is larger than 1.05 for some parameters. This indicates slight problems during sampling.\n",
      "The estimated number of effective samples is smaller than 200 for some parameters.\n"
     ]
    }
   ],
   "source": [
    "N_SAMPLES = 200\n",
    "\n",
    "with pm.Model() as sleep_model:\n",
    "    # Create the alpha and beta parameters\n",
    "    alpha = pm.Normal('alpha', mu=0.0, tau=0.01, testval=0.0)\n",
    "    beta = pm.Normal('beta', mu=0.0, tau=0.01, testval=0.0)\n",
    "    \n",
    "    # Create the probability from the logistic function\n",
    "    p = pm.Deterministic('p', 1. / (1. + tt.exp(beta * time + alpha)))\n",
    "    \n",
    "    # Create the bernoulli parameter which uses the observed data\n",
    "    observed = pm.Bernoulli('obs', p, observed=sleep_obs)\n",
    "    \n",
    "    # Using Metropolis Hastings Sampling\n",
    "    step = pm.Metropolis()\n",
    "    \n",
    "    # Sample from the posterior using the sampling method\n",
    "    sleep_trace = pm.sample(N_SAMPLES, step=step, njobs=4);"
   ]
  },
  {
   "cell_type": "code",
   "execution_count": 15,
   "metadata": {},
   "outputs": [],
   "source": [
    "# Extract the alpha and beta samples\n",
    "alpha_samples = sleep_trace[:]['alpha']\n",
    "beta_samples = sleep_trace[:]['beta']"
   ]
  },
  {
   "cell_type": "code",
   "execution_count": 16,
   "metadata": {},
   "outputs": [
    {
     "data": {
      "text/plain": [
       "200"
      ]
     },
     "execution_count": 16,
     "metadata": {},
     "output_type": "execute_result"
    }
   ],
   "source": [
    "len(sleep_trace)"
   ]
  },
  {
   "cell_type": "code",
   "execution_count": 20,
   "metadata": {},
   "outputs": [
    {
     "data": {
      "text/plain": [
       "Text(0, 0.5, 'Probability Density')"
      ]
     },
     "execution_count": 20,
     "metadata": {},
     "output_type": "execute_result"
    },
    {
     "data": {
      "image/png": "[encoded data removed]",
      "text/plain": [
       "<Figure size 432x288 with 1 Axes>"
      ]
     },
     "metadata": {
      "needs_background": "light"
     },
     "output_type": "display_data"
    }
   ],
   "source": [
    "plt.title(r\"\"\"Distribution of $\\alpha$ with %d samples\"\"\" % N_SAMPLES)\n",
    "plt.hist(alpha_samples, histtype='stepfilled', \n",
    "         color = 'darkred', bins=30, alpha=0.8, density=True);\n",
    "plt.ylabel('Probability Density')"
   ]
  },
  {
   "cell_type": "code",
   "execution_count": 21,
   "metadata": {},
   "outputs": [
    {
     "data": {
      "image/png": "[encoded data removed]",
      "text/plain": [
       "<Figure size 432x288 with 1 Axes>"
      ]
     },
     "metadata": {
      "needs_background": "light"
     },
     "output_type": "display_data"
    }
   ],
   "source": [
    "plt.title(r\"\"\"Distribution of $\\beta$ with %d samples\"\"\" % N_SAMPLES)\n",
    "plt.hist(beta_samples, histtype='stepfilled', \n",
    "         color = 'darkblue', bins=30, alpha=0.8, density=True)\n",
    "plt.ylabel('Probability Density');"
   ]
  },
  {
   "cell_type": "code",
   "execution_count": null,
   "metadata": {},
   "outputs": [],
   "source": []
  }
 ],
 "metadata": {
  "kernelspec": {
   "display_name": "Python 3",
   "language": "python",
   "name": "python3"
  },
  "language_info": {
   "codemirror_mode": {
    "name": "ipython",
    "version": 3
   },
   "file_extension": ".py",
   "mimetype": "text/x-python",
   "name": "python",
   "nbconvert_exporter": "python",
   "pygments_lexer": "ipython3",
   "version": "3.7.1"
  }
 },
 "nbformat": 4,
 "nbformat_minor": 2
}
