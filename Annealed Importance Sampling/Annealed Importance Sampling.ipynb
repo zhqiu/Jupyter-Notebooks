{
 "cells": [
  {
   "cell_type": "markdown",
   "metadata": {},
   "source": [
    "来源：https://wiseodd.github.io/techblog/2017/12/23/annealed-importance-sampling/"
   ]
  },
  {
   "cell_type": "markdown",
   "metadata": {},
   "source": [
    "### 重要性采样简介"
   ]
  },
  {
   "cell_type": "markdown",
   "metadata": {},
   "source": [
    "$E_{x\\sim p(x)}[f(x)]=\\int p(x)f(x)dx = \\int q(x)\\frac{p(x)}{q(x)}f(x)dx=E_{x\\sim q(x)}[\\frac{p(x)}{q(x)}f(x)]=\\frac{1}{N}\\sum_{i=1,x_i\\sim q(x)}^N \\frac{p(x_i)}{q(x_i)}f(x_i)$"
   ]
  },
  {
   "cell_type": "markdown",
   "metadata": {},
   "source": [
    "代码实现如下："
   ]
  },
  {
   "cell_type": "code",
   "execution_count": null,
   "metadata": {},
   "outputs": [],
   "source": []
  },
  {
   "cell_type": "markdown",
   "metadata": {},
   "source": [
    "### AIS简介"
   ]
  },
  {
   "cell_type": "markdown",
   "metadata": {},
   "source": [
    "假设由这样的分布："
   ]
  },
  {
   "cell_type": "markdown",
   "metadata": {},
   "source": [
    "$p(x)=\\frac{1}{Z}f(x)$，$Z=\\sum_{x} f(x)$"
   ]
  },
  {
   "cell_type": "markdown",
   "metadata": {},
   "source": [
    "当维度很高时，求$Z$的这种求和操作时不可行的，因为可能有指数个项相加。"
   ]
  },
  {
   "cell_type": "markdown",
   "metadata": {},
   "source": [
    "$E_{p(x)}[x]=\\sum_{x}xp(x)$"
   ]
  },
  {
   "cell_type": "markdown",
   "metadata": {},
   "source": [
    "若不知道$p(x)$，自然无法计算该期望。此时一种可取的方法是使用重要性采样，用另一个分布$q(x)$来近似$p(x)$。但确定合适的$q(x)$是比较困难的，这就是退火重要性采样（Annealed Importance Sampling，AIS）背后的动机。"
   ]
  },
  {
   "cell_type": "markdown",
   "metadata": {},
   "source": [
    "### AIS的大致过程"
   ]
  },
  {
   "cell_type": "markdown",
   "metadata": {},
   "source": [
    "### 代码实现"
   ]
  },
  {
   "cell_type": "code",
   "execution_count": 1,
   "metadata": {},
   "outputs": [],
   "source": [
    "import numpy as np\n",
    "import scipy.stats as st\n",
    "import matplotlib.pyplot as plt\n",
    "\n",
    "\n",
    "def f_0(x):\n",
    "    \"\"\" Target distribution -- 正比于 N(-5, 2) \"\"\"\n",
    "    return np.exp(-(x+5)**2/2/2)"
   ]
  },
  {
   "cell_type": "code",
   "execution_count": 5,
   "metadata": {},
   "outputs": [
    {
     "data": {
      "text/plain": [
       "[<matplotlib.lines.Line2D at 0x1413e938978>]"
      ]
     },
     "execution_count": 5,
     "metadata": {},
     "output_type": "execute_result"
    },
    {
     "data": {
      "image/png": "[encoded data removed]",
      "text/plain": [
       "<Figure size 432x288 with 1 Axes>"
      ]
     },
     "metadata": {
      "needs_background": "light"
     },
     "output_type": "display_data"
    }
   ],
   "source": [
    "x = np.array(range(-10,5,1))\n",
    "\n",
    "plt.plot(x, f_0(x))"
   ]
  },
  {
   "cell_type": "code",
   "execution_count": null,
   "metadata": {},
   "outputs": [],
   "source": []
  }
 ],
 "metadata": {
  "kernelspec": {
   "display_name": "Python 3",
   "language": "python",
   "name": "python3"
  },
  "language_info": {
   "codemirror_mode": {
    "name": "ipython",
    "version": 3
   },
   "file_extension": ".py",
   "mimetype": "text/x-python",
   "name": "python",
   "nbconvert_exporter": "python",
   "pygments_lexer": "ipython3",
   "version": "3.7.1"
  }
 },
 "nbformat": 4,
 "nbformat_minor": 2
}
