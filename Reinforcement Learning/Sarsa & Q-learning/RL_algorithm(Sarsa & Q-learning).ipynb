{
 "cells": [
  {
   "cell_type": "markdown",
   "metadata": {},
   "source": [
    "# Cliff Walking 问题描述"
   ]
  },
  {
   "cell_type": "markdown",
   "metadata": {},
   "source": [
    "This gridworld example compares Sarsa and Qlearning, highlighting the difference between on-policy (Sarsa) and off-policy (Qlearning) methods. Consider the gridworld shown in the figure below. This is a standard undiscounted, episodic task, with start and goal states, and the usual actions causing movement up, down, right, and left. Reward is −1 on all transitions except those into the region marked “The Cliff.” Stepping into this region incurs a reward of −100 and sends the agent instantly back to the start."
   ]
  },
  {
   "cell_type": "markdown",
   "metadata": {},
   "source": [
    "![CliffWalking](./Cliff_walking.png)"
   ]
  },
  {
   "cell_type": "markdown",
   "metadata": {},
   "source": [
    "In this file, I will compare Sarsa and Q-learning"
   ]
  },
  {
   "cell_type": "markdown",
   "metadata": {},
   "source": [
    "# 代码部分"
   ]
  },
  {
   "cell_type": "markdown",
   "metadata": {},
   "source": [
    "首先建立环境函数envir，函数的输入是当前位置(x,y)和动作a，输出是下一刻位置(x,y)和奖励r"
   ]
  },
  {
   "cell_type": "code",
   "execution_count": 1,
   "metadata": {},
   "outputs": [],
   "source": [
    "x_length = 12\n",
    "y_length = 4\n",
    "\n",
    "def envir(x, y, a):\n",
    "    at_goal = 0      # 此变量为0表示不在终点，为1表示在终点\n",
    "    if x == x_length-1 and y==0:\n",
    "        at_goal = 1\n",
    "    \n",
    "    # 四个移动方向\n",
    "    if a == 0:\n",
    "        y += 1\n",
    "    if a == 1:\n",
    "        x += 1\n",
    "    if a == 2:\n",
    "        y -= 1\n",
    "    if a == 3:\n",
    "        x -= 1\n",
    "        \n",
    "    x = max(0, x)\n",
    "    x = min(x_length-1, x)\n",
    "    y = max(0, y)\n",
    "    y = min(y_length-1, y)\n",
    "    \n",
    "    if at_goal == 1:     # 虽然在终点，但为更新Q函数，还是要返回奖励-1\n",
    "        return x, y, -1\n",
    "    if x>0 and x<x_length-1 and y==0:\n",
    "        return 0, 0, -100\n",
    "    return x, y, -1"
   ]
  },
  {
   "cell_type": "markdown",
   "metadata": {},
   "source": [
    "下面定义$\\epsilon$-贪心策略，参数Q是指Q函数（类型为numpy.ndarray）。函数epsilon_greedy_action返回$\\epsilon$-贪心策略下的动作；函数optimal_action返回当前最佳动作。"
   ]
  },
  {
   "cell_type": "code",
   "execution_count": 2,
   "metadata": {},
   "outputs": [],
   "source": [
    "import random\n",
    "import numpy as np\n",
    "epsilon = 0.1\n",
    "\n",
    "def epsilon_greedy_action(x, y, Q, eps=epsilon):\n",
    "    t = random.randint(0, 3)\n",
    "    if random.random()<eps:\n",
    "        a = t\n",
    "    else:\n",
    "        a = optimal_action(x, y, Q)\n",
    "    return a\n",
    "\n",
    "def optimal_action(x, y, Q):\n",
    "    return np.argmax(Q[x, y])"
   ]
  },
  {
   "cell_type": "markdown",
   "metadata": {},
   "source": [
    "下面这个函数用来根据Q函数画出路径"
   ]
  },
  {
   "cell_type": "code",
   "execution_count": 3,
   "metadata": {},
   "outputs": [],
   "source": [
    "def drawPath(Q):\n",
    "    for y in range(y_length)[::-1]:\n",
    "        for x in range(x_length):\n",
    "            a = np.argmax(Q[x,y])\n",
    "            if a == 0:\n",
    "                print(\"↑\", end=\"\")\n",
    "            elif a == 1:\n",
    "                print(\"→\",end=\"\")\n",
    "            elif a == 2:\n",
    "                print(\"↓\",end=\"\")\n",
    "            elif a == 3:\n",
    "                print(\"←\",end=\"\")\n",
    "            else:\n",
    "                print(\"0\",end = \"\")\n",
    "        print(\"\")"
   ]
  },
  {
   "cell_type": "markdown",
   "metadata": {},
   "source": [
    "## Sarsa 算法"
   ]
  },
  {
   "cell_type": "markdown",
   "metadata": {},
   "source": [
    "![Sarsa](./SARSA_algo.png)"
   ]
  },
  {
   "cell_type": "code",
   "execution_count": 4,
   "metadata": {},
   "outputs": [],
   "source": [
    "# Sarsa on-policy\n",
    "alpha = 0.5\n",
    "gamma = 1\n",
    "\n",
    "def sarsa_on_policy(Q):\n",
    "    episodes = 100\n",
    "    rewards = []\n",
    "    \n",
    "    for i in range(episodes):\n",
    "        reward_sum = 0\n",
    "        x, y = 0, 0                        # initialize S\n",
    "        a = epsilon_greedy_action(x, y, Q) # choose a\n",
    "        \n",
    "        while True:                        # for each step of episode\n",
    "            x_next, y_next, reward = envir(x, y, a)\n",
    "            reward_sum += reward\n",
    "            a_next = epsilon_greedy_action(x_next, y_next, Q)\n",
    "            Q[x,y,a] += alpha * (reward + gamma*Q[x_next, y_next, a_next] - Q[x,y,a])\n",
    "            if x == x_length-1 and y==0:\n",
    "                break\n",
    "            x, y, a = x_next, y_next, a_next\n",
    "            \n",
    "        rewards.append(reward_sum)\n",
    "    \n",
    "    return Q, rewards"
   ]
  },
  {
   "cell_type": "code",
   "execution_count": 5,
   "metadata": {},
   "outputs": [],
   "source": [
    "Q = np.zeros([12,4,4])\n",
    "Q_opt, rewards = sarsa_on_policy(Q)"
   ]
  },
  {
   "cell_type": "code",
   "execution_count": 6,
   "metadata": {},
   "outputs": [
    {
     "data": {
      "text/plain": [
       "<Figure size 640x480 with 1 Axes>"
      ]
     },
     "metadata": {},
     "output_type": "display_data"
    }
   ],
   "source": [
    "import matplotlib.pyplot as plt\n",
    "\n",
    "plt.plot(range(len(rewards)), rewards)\n",
    "plt.show()"
   ]
  },
  {
   "cell_type": "markdown",
   "metadata": {},
   "source": [
    "下面画出路径，最左下角的点是起始点，最右下角的点是终点"
   ]
  },
  {
   "cell_type": "code",
   "execution_count": 7,
   "metadata": {},
   "outputs": [
    {
     "name": "stdout",
     "output_type": "stream",
     "text": [
      "→→→↓→←↑→→→→↓\n",
      "↑↓→→→↑→↑→↑→↓\n",
      "↑↑↑↑↑↑←↑←↑→↓\n",
      "↑↑↑↑↑↑↑↑↑↑↑←\n"
     ]
    }
   ],
   "source": [
    "drawPath(Q_opt)"
   ]
  },
  {
   "cell_type": "markdown",
   "metadata": {},
   "source": [
    "## Q-learning 算法"
   ]
  },
  {
   "cell_type": "markdown",
   "metadata": {},
   "source": [
    "![Q-learning](./Q_learning_algo.png)"
   ]
  },
  {
   "cell_type": "code",
   "execution_count": 8,
   "metadata": {},
   "outputs": [],
   "source": [
    "# Q-learning off-policy\n",
    "alpha = 0.5\n",
    "gamma = 1\n",
    "\n",
    "def q_learning_off_policy(Q):\n",
    "    episodes = 100\n",
    "    rewards = []\n",
    "    \n",
    "    for i in range(episodes):\n",
    "        reward_sum = 0\n",
    "        x, y = 0, 0                        # initialize S\n",
    "        \n",
    "        while True:                        # for each step of episode\n",
    "            a = epsilon_greedy_action(x, y, Q) # choose a\n",
    "            x_next, y_next, reward = envir(x, y, a)\n",
    "            reward_sum += reward\n",
    "            a_next = optimal_action(x_next, y_next, Q)\n",
    "            Q[x,y,a] += alpha * (reward + gamma*Q[x_next, y_next, a_next] - Q[x,y,a])\n",
    "            if x == x_length-1 and y==0:\n",
    "                break\n",
    "            x, y = x_next, y_next\n",
    "            \n",
    "        rewards.append(reward_sum)\n",
    "    \n",
    "    return Q, rewards"
   ]
  },
  {
   "cell_type": "code",
   "execution_count": 9,
   "metadata": {},
   "outputs": [],
   "source": [
    "Q = np.zeros([12,4,4])\n",
    "Q_opt, rewards = q_learning_off_policy(Q)"
   ]
  },
  {
   "cell_type": "code",
   "execution_count": 10,
   "metadata": {},
   "outputs": [
    {
     "data": {
      "image/png": "[encoded data removed]",
      "text/plain": [
       "<Figure size 432x288 with 1 Axes>"
      ]
     },
     "metadata": {
      "needs_background": "light"
     },
     "output_type": "display_data"
    }
   ],
   "source": [
    "import matplotlib.pyplot as plt\n",
    "\n",
    "plt.plot(range(len(rewards)), rewards)\n",
    "plt.show()"
   ]
  },
  {
   "cell_type": "code",
   "execution_count": 11,
   "metadata": {},
   "outputs": [
    {
     "name": "stdout",
     "output_type": "stream",
     "text": [
      "→→↑→→→→→→↓→↓\n",
      "→↓→→↓→↓→→→→↓\n",
      "→→→→→→→→→→→↓\n",
      "↑↑↑↑↑↑↑↑↑↑↑←\n"
     ]
    }
   ],
   "source": [
    "drawPath(Q_opt)"
   ]
  },
  {
   "cell_type": "markdown",
   "metadata": {},
   "source": [
    "从这两幅图中可以看出，Q-learning在更新Q函数时每次选择最优的动作，所以效果更aggressive，相比之下，Sarsa的效果更conservative。"
   ]
  }
 ],
 "metadata": {
  "kernelspec": {
   "display_name": "Python 3",
   "language": "python",
   "name": "python3"
  },
  "language_info": {
   "codemirror_mode": {
    "name": "ipython",
    "version": 3
   },
   "file_extension": ".py",
   "mimetype": "text/x-python",
   "name": "python",
   "nbconvert_exporter": "python",
   "pygments_lexer": "ipython3",
   "version": "3.7.1"
  }
 },
 "nbformat": 4,
 "nbformat_minor": 2
}
